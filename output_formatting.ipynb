{
 "cells": [
  {
   "cell_type": "code",
   "execution_count": 9,
   "id": "fe109e24-0c9d-4c16-82c3-d21cb6e5907a",
   "metadata": {
    "tags": []
   },
   "outputs": [],
   "source": [
    "import pandas as pd"
   ]
  },
  {
   "cell_type": "code",
   "execution_count": 1,
   "id": "91de2697-c8c5-480d-98d0-6e068868d7d5",
   "metadata": {
    "tags": []
   },
   "outputs": [],
   "source": [
    "import datasets"
   ]
  },
  {
   "cell_type": "code",
   "execution_count": null,
   "id": "3e2ea429-9578-47ae-80b9-3ff61cdfdb18",
   "metadata": {
    "tags": []
   },
   "outputs": [],
   "source": [
    "from datasets import load_dataset"
   ]
  },
  {
   "cell_type": "markdown",
   "id": "72363808-09dc-479a-a341-cf35536f08b9",
   "metadata": {},
   "source": [
    "## Datasets we will be using (that are mentioned in the paper) "
   ]
  },
  {
   "cell_type": "markdown",
   "id": "8039e727-98a9-4635-9e4d-e767df742e2f",
   "metadata": {},
   "source": [
    "- GSM8K\n",
    "- SQA\n",
    "- SVAMP\n",
    "- SingleEq\n",
    "- MultiArith\n",
    "\n",
    "Each of the ways that we can import and load them are shown below:"
   ]
  },
  {
   "cell_type": "markdown",
   "id": "9e8cf689-ad6e-4f8a-948b-627940ed041a",
   "metadata": {},
   "source": [
    "#### GSM8K "
   ]
  },
  {
   "cell_type": "code",
   "execution_count": 5,
   "id": "2714bfab-5a0a-4f7d-918c-ccc7b916b7cb",
   "metadata": {
    "tags": []
   },
   "outputs": [
    {
     "name": "stderr",
     "output_type": "stream",
     "text": [
      "Found cached dataset gsm8k (/home/kyan/.cache/huggingface/datasets/gsm8k/main/1.1.0/37bfb08b1d4fcbb01f06b03d9e1ef5f1fcbd4d3af3d08842c50d7305091285ba)\n"
     ]
    },
    {
     "data": {
      "application/vnd.jupyter.widget-view+json": {
       "model_id": "2ecd19f2dd474d50ae579c5227daec90",
       "version_major": 2,
       "version_minor": 0
      },
      "text/plain": [
       "  0%|          | 0/2 [00:00<?, ?it/s]"
      ]
     },
     "metadata": {},
     "output_type": "display_data"
    }
   ],
   "source": [
    "#this will download and place the data into cache\n",
    "dataset = load_dataset(\"gsm8k\", \"main\")"
   ]
  },
  {
   "cell_type": "code",
   "execution_count": 15,
   "id": "5dfadf55-f246-4d35-ae46-f87c49e34e80",
   "metadata": {
    "tags": []
   },
   "outputs": [
    {
     "data": {
      "text/plain": [
       "{'question': 'James decides to run 3 sprints 3 times a week.  He runs 60 meters each sprint.  How many total meters does he run a week?',\n",
       " 'answer': 'He sprints 3*3=<<3*3=9>>9 times\\nSo he runs 9*60=<<9*60=540>>540 meters\\n#### 540'}"
      ]
     },
     "execution_count": 15,
     "metadata": {},
     "output_type": "execute_result"
    }
   ],
   "source": [
    "dataset[\"test\"][3]"
   ]
  },
  {
   "cell_type": "code",
   "execution_count": null,
   "id": "5ed00b55-ba75-459d-9f60-52bdf4fe7901",
   "metadata": {
    "tags": []
   },
   "outputs": [],
   "source": [
    "#Cleaning so that test data only has answers\n",
    "test_data = {}\n",
    "for i in range(len(dataset[\"test\"])):\n",
    "    entry = dataset[\"test\"][i]\n",
    "    test_data[entry[\"question\"]] = entry[\"answer\"].split()[-1]"
   ]
  },
  {
   "cell_type": "markdown",
   "id": "28c9dfba-c650-4431-96e0-8366fe6ef722",
   "metadata": {},
   "source": [
    "### Output Formatting"
   ]
  },
  {
   "cell_type": "markdown",
   "id": "f78579a1-72c0-4533-b2cb-e00f140fc08e",
   "metadata": {},
   "source": [
    "In the paper, for math problems they appended:\n",
    "- \"Therefore, the answer (arabic numerals) is \". \n",
    "\n",
    "For Yes or No answers:\n",
    "- \"Label(Yes/No):\""
   ]
  },
  {
   "cell_type": "markdown",
   "id": "34a32df0-f077-45da-ab55-eb6a129de239",
   "metadata": {},
   "source": [
    "This doesn't seem to work so I just wrote some regex for character matching"
   ]
  },
  {
   "cell_type": "code",
   "execution_count": 22,
   "id": "9ddc5baf-3249-4838-8e69-639bb6e88ace",
   "metadata": {
    "tags": []
   },
   "outputs": [],
   "source": [
    "output = \"The LLM returns answer of 3 + 3 = 6\"\n",
    "answer = \"6\""
   ]
  },
  {
   "cell_type": "code",
   "execution_count": 30,
   "id": "78620215-7a4f-4cc0-ab0c-ea1c11009614",
   "metadata": {
    "tags": []
   },
   "outputs": [],
   "source": [
    "import re\n",
    "\n",
    "def check_answer(answer, output):\n",
    "    if not (isinstance(answer, str) and isinstance(output, str)):\n",
    "        raise TypeError(\"Must be of type str\")\n",
    "    if re.search(\"\\s\" + answer +\"\\s*\", output):\n",
    "        print(\"answer is correct\")\n",
    "    else:\n",
    "        print(\"answer is wrong\")"
   ]
  },
  {
   "cell_type": "code",
   "execution_count": 31,
   "id": "c2448468-ef76-471f-b53f-517741eec365",
   "metadata": {
    "tags": []
   },
   "outputs": [
    {
     "name": "stdout",
     "output_type": "stream",
     "text": [
      "answer is correct\n",
      "answer is wrong\n"
     ]
    }
   ],
   "source": [
    "check_answer(\"6\", output)\n",
    "check_answer(\"5\", output)"
   ]
  }
 ],
 "metadata": {
  "kernelspec": {
   "display_name": "Python 3 (ipykernel)",
   "language": "python",
   "name": "python3"
  },
  "language_info": {
   "codemirror_mode": {
    "name": "ipython",
    "version": 3
   },
   "file_extension": ".py",
   "mimetype": "text/x-python",
   "name": "python",
   "nbconvert_exporter": "python",
   "pygments_lexer": "ipython3",
   "version": "3.10.10"
  }
 },
 "nbformat": 4,
 "nbformat_minor": 5
}
