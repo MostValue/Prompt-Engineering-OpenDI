{
 "cells": [
  {
   "cell_type": "code",
   "execution_count": 2,
   "metadata": {
    "tags": []
   },
   "outputs": [],
   "source": [
    "# Libraries\n",
    "import pandas as pd\n",
    "import random\n",
    "import json\n",
    "from datasets import load_dataset\n"
   ]
  },
  {
   "cell_type": "code",
   "execution_count": 4,
   "metadata": {
    "tags": []
   },
   "outputs": [
    {
     "data": {
      "application/vnd.jupyter.widget-view+json": {
       "model_id": "b8cf8a8ad374424c9eb9d2c0f9e596b1",
       "version_major": 2,
       "version_minor": 0
      },
      "text/plain": [
       "Downloading tokenizer_config.json:   0%|          | 0.00/2.54k [00:00<?, ?B/s]"
      ]
     },
     "metadata": {},
     "output_type": "display_data"
    },
    {
     "data": {
      "application/vnd.jupyter.widget-view+json": {
       "model_id": "ff4686eebfc540eda1c2a63bcd4e2b78",
       "version_major": 2,
       "version_minor": 0
      },
      "text/plain": [
       "Downloading spiece.model:   0%|          | 0.00/792k [00:00<?, ?B/s]"
      ]
     },
     "metadata": {},
     "output_type": "display_data"
    },
    {
     "data": {
      "application/vnd.jupyter.widget-view+json": {
       "model_id": "070e987ddacd4032a457f2fcd81fe050",
       "version_major": 2,
       "version_minor": 0
      },
      "text/plain": [
       "Downloading tokenizer.json:   0%|          | 0.00/2.42M [00:00<?, ?B/s]"
      ]
     },
     "metadata": {},
     "output_type": "display_data"
    },
    {
     "data": {
      "application/vnd.jupyter.widget-view+json": {
       "model_id": "1905d6b879cc4684b4dd6129fe8d47c1",
       "version_major": 2,
       "version_minor": 0
      },
      "text/plain": [
       "Downloading (…)cial_tokens_map.json:   0%|          | 0.00/2.20k [00:00<?, ?B/s]"
      ]
     },
     "metadata": {},
     "output_type": "display_data"
    },
    {
     "data": {
      "application/vnd.jupyter.widget-view+json": {
       "model_id": "9650714120a1402ea9c09c65ee3c47a6",
       "version_major": 2,
       "version_minor": 0
      },
      "text/plain": [
       "Downloading config.json:   0%|          | 0.00/1.40k [00:00<?, ?B/s]"
      ]
     },
     "metadata": {},
     "output_type": "display_data"
    },
    {
     "data": {
      "application/vnd.jupyter.widget-view+json": {
       "model_id": "90f4524adebb40c2a024f1a576290cf4",
       "version_major": 2,
       "version_minor": 0
      },
      "text/plain": [
       "Downloading pytorch_model.bin:   0%|          | 0.00/990M [00:00<?, ?B/s]"
      ]
     },
     "metadata": {},
     "output_type": "display_data"
    },
    {
     "data": {
      "application/vnd.jupyter.widget-view+json": {
       "model_id": "e5826b526b164ec7a17097b3b9991603",
       "version_major": 2,
       "version_minor": 0
      },
      "text/plain": [
       "Downloading generation_config.json:   0%|          | 0.00/147 [00:00<?, ?B/s]"
      ]
     },
     "metadata": {},
     "output_type": "display_data"
    }
   ],
   "source": [
    "# Load model directly\n",
    "from transformers import AutoTokenizer, AutoModelForSeq2SeqLM\n",
    "\n",
    "tokenizer = AutoTokenizer.from_pretrained(\"google/flan-t5-base\")\n",
    "model = AutoModelForSeq2SeqLM.from_pretrained(\"google/flan-t5-base\")"
   ]
  },
  {
   "cell_type": "markdown",
   "metadata": {},
   "source": [
    "## Getting instructions"
   ]
  },
  {
   "cell_type": "code",
   "execution_count": 5,
   "metadata": {
    "tags": []
   },
   "outputs": [
    {
     "name": "stderr",
     "output_type": "stream",
     "text": [
      "Found cached dataset gsm8k (/home/kyan/.cache/huggingface/datasets/gsm8k/main/1.1.0/37bfb08b1d4fcbb01f06b03d9e1ef5f1fcbd4d3af3d08842c50d7305091285ba)\n"
     ]
    },
    {
     "data": {
      "application/vnd.jupyter.widget-view+json": {
       "model_id": "fbb88b48c9014761873c7e702484132b",
       "version_major": 2,
       "version_minor": 0
      },
      "text/plain": [
       "  0%|          | 0/2 [00:00<?, ?it/s]"
      ]
     },
     "metadata": {},
     "output_type": "display_data"
    },
    {
     "data": {
      "text/plain": [
       "{'question': 'Kylar went to the store to buy glasses for his new apartment. One glass costs $5, but every second glass costs only 60% of the price. Kylar wants to buy 16 glasses. How much does he need to pay for them?',\n",
       " 'answer': 'The discount price of one glass is 60/100 * 5 = $<<60/100*5=3>>3.\\nIf every second glass is cheaper, that means Kylar is going to buy 16 / 2 = <<16/2=8>>8 cheaper glasses.\\nSo for the cheaper glasses, Kylar is going to pay 8 * 3 = $<<8*3=24>>24.\\nAnd for the regular-priced glasses, Kylar will pay 8 * 5 = $<<8*5=40>>40.\\nSo in total Kylar needs to pay 24 + 40 = $<<24+40=64>>64 for the glasses he wants to buy.\\n#### 64'}"
      ]
     },
     "execution_count": 5,
     "metadata": {},
     "output_type": "execute_result"
    }
   ],
   "source": [
    "dataset = load_dataset(\"gsm8k\", \"main\")\n",
    "dataset[\"test\"][5]"
   ]
  },
  {
   "cell_type": "code",
   "execution_count": 6,
   "metadata": {
    "tags": []
   },
   "outputs": [],
   "source": [
    "def get_random_test_object(dataset):\n",
    "    if \"test\" in dataset and len(dataset[\"test\"]) > 0:\n",
    "        random_index = random.randint(0, len(dataset[\"test\"]) - 1)\n",
    "        test_object = dataset[\"test\"][random_index]\n",
    "        \n",
    "        # Assuming each object in the dataset has 'question' and 'answer' keys\n",
    "        question = test_object.get(\"question\", \"No question found\")\n",
    "        answer = test_object.get(\"answer\", \"No answer found\")\n",
    "        \n",
    "        return question, answer\n",
    "    else:\n",
    "        return None, None"
   ]
  },
  {
   "cell_type": "code",
   "execution_count": 7,
   "metadata": {
    "tags": []
   },
   "outputs": [],
   "source": [
    "def get_random_mutation(csv_file_path):\n",
    "    try:\n",
    "        df = pd.read_csv(csv_file_path, header=None, encoding='utf-8', delimiter='.') \n",
    "    except UnicodeDecodeError:\n",
    "        df = pd.read_csv(csv_file_path, header=None, encoding='ISO-8859-1', delimiter='.') \n",
    "\n",
    "    random_prompt = random.choice(df[1].tolist())\n",
    "    return random_prompt\n"
   ]
  },
  {
   "cell_type": "code",
   "execution_count": 8,
   "metadata": {
    "tags": []
   },
   "outputs": [],
   "source": [
    "def get_random_mutation_txt(txt_file_path):\n",
    "    with open(txt_file_path, 'r', encoding='utf-8') as file:\n",
    "        lines = file.readlines()\n",
    "\n",
    "    # Remove any leading/trailing whitespace and filter out empty lines\n",
    "    prompts = [line.strip() for line in lines if line.strip()]\n",
    "    \n",
    "    if prompts:\n",
    "        return random.choice(prompts)\n",
    "    else:\n",
    "        return \"No mutation prompts found.\""
   ]
  },
  {
   "cell_type": "code",
   "execution_count": 39,
   "metadata": {
    "tags": []
   },
   "outputs": [],
   "source": [
    "def generate_intructions(question, task_description, max_tokens=100):\n",
    "    formatted_input = f\"{task_description} {question}\"\n",
    "    input_ids = tokenizer(formatted_input, return_tensors=\"pt\").input_ids\n",
    "    outputs = model.generate(input_ids, max_new_tokens = max_tokens)\n",
    "    generated_text = tokenizer.decode(outputs[0], skip_special_tokens=True)\n",
    "\n",
    "    return generated_text"
   ]
  },
  {
   "cell_type": "code",
   "execution_count": 10,
   "metadata": {
    "tags": []
   },
   "outputs": [],
   "source": [
    "def process_with_llm(prompt):\n",
    "    input_ids = tokenizer.encode(prompt, return_tensors='pt')\n",
    "    output = model.generate(input_ids, max_length=1000)\n",
    "    response = tokenizer.decode(output[0], skip_special_tokens=True)\n",
    "\n",
    "    return response"
   ]
  },
  {
   "cell_type": "code",
   "execution_count": 12,
   "metadata": {
    "tags": []
   },
   "outputs": [],
   "source": [
    "# write the task description here:\n",
    "task_description = \"Generate an instruction on how to solve the problem, based on the given question \""
   ]
  },
  {
   "cell_type": "code",
   "execution_count": 61,
   "metadata": {
    "tags": []
   },
   "outputs": [],
   "source": [
    "task_description1 = \"Generate an instruction, or advice on how to solve a problem\""
   ]
  },
  {
   "cell_type": "markdown",
   "metadata": {
    "jp-MarkdownHeadingCollapsed": true,
    "tags": []
   },
   "source": [
    "#### Hide"
   ]
  },
  {
   "cell_type": "code",
   "execution_count": 13,
   "metadata": {
    "tags": []
   },
   "outputs": [],
   "source": [
    "# getting mutated prompts\n",
    "question, answer = get_random_test_object(dataset)"
   ]
  },
  {
   "cell_type": "code",
   "execution_count": 14,
   "metadata": {
    "collapsed": true,
    "jupyter": {
     "outputs_hidden": true
    },
    "tags": []
   },
   "outputs": [
    {
     "name": "stdout",
     "output_type": "stream",
     "text": [
      "Janeth borrowed $2000 and promised to return it with an additional 10% of the amount. If she is going to pay $165 a month for 12 months, how much will be Janeth's remaining balance by then?\n"
     ]
    }
   ],
   "source": [
    "print(question)"
   ]
  },
  {
   "cell_type": "code",
   "execution_count": 15,
   "metadata": {
    "tags": []
   },
   "outputs": [
    {
     "name": "stdout",
     "output_type": "stream",
     "text": [
      "Janeth will pay an additional $2000x 10/100 =$<<2000*10/100=200>>200.\n",
      "So she is going to pay off a total of $2000 + $200 = $<<2000+200=2200>>2200.\n",
      "Janeth will be able to pay off $165 x 12 = $<<165*12=1980>>1980 in 12 months.\n",
      "Hence, her remaining balance by then will be $2200 - $1980 = $<<2200-1980=220>>220.\n",
      "#### 220\n"
     ]
    }
   ],
   "source": [
    "print(answer)"
   ]
  },
  {
   "cell_type": "markdown",
   "metadata": {
    "tags": []
   },
   "source": [
    "## Instruction Generation"
   ]
  },
  {
   "cell_type": "code",
   "execution_count": 45,
   "metadata": {
    "jupyter": {
     "source_hidden": true
    },
    "tags": []
   },
   "outputs": [],
   "source": [
    "num_instructions = 10\n",
    "generated_instructions = []\n",
    "\n",
    "for _ in range(num_instructions):\n",
    "    question, _ = get_random_test_object(dataset)  # Fetch a random question from your dataset\n",
    "    instruction = generate_intructions(question, task_description)\n",
    "    generated_instructions.append(instruction)"
   ]
  },
  {
   "cell_type": "code",
   "execution_count": 57,
   "metadata": {
    "jupyter": {
     "source_hidden": true
    },
    "tags": []
   },
   "outputs": [
    {
     "name": "stdout",
     "output_type": "stream",
     "text": [
      "a) a b) a c) d) a e) a f) a g) a h) a i) a j) a k) a j) a k) a j) a k) a j) a k) a j) a k) a j) a k\n"
     ]
    }
   ],
   "source": [
    "print(generated_instructions[5])"
   ]
  },
  {
   "cell_type": "markdown",
   "metadata": {},
   "source": [
    "#### Test Version 2"
   ]
  },
  {
   "cell_type": "code",
   "execution_count": 85,
   "metadata": {
    "tags": []
   },
   "outputs": [],
   "source": [
    "# Alternative, that does not include question\n",
    "\n",
    "\n",
    "def generate_instructions1(num_instructions, max_tokens=1000, temperature=1.5):\n",
    "    formatted_input = f\"Generate a list of {num_instructions} instructions on how to solve a math problem\"\n",
    "    input_ids = tokenizer(formatted_input, return_tensors=\"pt\").input_ids\n",
    "    outputs = model.generate(input_ids, \n",
    "                             max_new_tokens=int(max_tokens),\n",
    "                             temperature=temperature)\n",
    "    generated_text = tokenizer.decode(outputs[0], skip_special_tokens=True)\n",
    "\n",
    "    return generated_text"
   ]
  },
  {
   "cell_type": "code",
   "execution_count": 86,
   "metadata": {
    "tags": []
   },
   "outputs": [
    {
     "name": "stdout",
     "output_type": "stream",
     "text": [
      "Using a calculator, find the number of squares in the equation.\n"
     ]
    }
   ],
   "source": [
    "num_instructions = 10\n",
    "generated_instructions = []\n",
    "\n",
    "print(generate_instructions1(num_instructions, temperature=500))"
   ]
  },
  {
   "cell_type": "code",
   "execution_count": 66,
   "metadata": {
    "tags": []
   },
   "outputs": [
    {
     "name": "stdout",
     "output_type": "stream",
     "text": [
      "a) To solve a problem, you need to know how to solve it. b) To solve a problem, you need to know how to solve it. c) To solve a problem, you need to know how to solve it. d) To solve a problem, you need to know how to solve it.\n"
     ]
    }
   ],
   "source": [
    "print(generated_instructions[3])"
   ]
  },
  {
   "cell_type": "code",
   "execution_count": 61,
   "metadata": {},
   "outputs": [
    {
     "data": {
      "text/html": [
       "<pre style=\"white-space:pre;overflow-x:auto;line-height:normal;font-family:Menlo,'DejaVu Sans Mono',consolas,'Courier New',monospace\"><span style=\"color: #800000; text-decoration-color: #800000\">╭─────────────────────────────── </span><span style=\"color: #800000; text-decoration-color: #800000; font-weight: bold\">Traceback </span><span style=\"color: #bf7f7f; text-decoration-color: #bf7f7f; font-weight: bold\">(most recent call last)</span><span style=\"color: #800000; text-decoration-color: #800000\"> ────────────────────────────────╮</span>\n",
       "<span style=\"color: #800000; text-decoration-color: #800000\">│</span> in <span style=\"color: #00ff00; text-decoration-color: #00ff00\">&lt;module&gt;</span>:<span style=\"color: #0000ff; text-decoration-color: #0000ff\">1</span>                                                                                    <span style=\"color: #800000; text-decoration-color: #800000\">│</span>\n",
       "<span style=\"color: #800000; text-decoration-color: #800000\">│</span>                                                                                                  <span style=\"color: #800000; text-decoration-color: #800000\">│</span>\n",
       "<span style=\"color: #800000; text-decoration-color: #800000\">│</span> <span style=\"color: #800000; text-decoration-color: #800000\">❱ </span>1 mutation_prompt = get_random_mutation(<span style=\"color: #808000; text-decoration-color: #808000\">\"./Prompt-Engineering-OpenDI/mutation_prompts.csv\"</span>     <span style=\"color: #800000; text-decoration-color: #800000\">│</span>\n",
       "<span style=\"color: #800000; text-decoration-color: #800000\">│</span>   <span style=\"color: #7f7f7f; text-decoration-color: #7f7f7f\">2 </span>                                                                                             <span style=\"color: #800000; text-decoration-color: #800000\">│</span>\n",
       "<span style=\"color: #800000; text-decoration-color: #800000\">│</span>                                                                                                  <span style=\"color: #800000; text-decoration-color: #800000\">│</span>\n",
       "<span style=\"color: #800000; text-decoration-color: #800000\">│</span> in <span style=\"color: #00ff00; text-decoration-color: #00ff00\">get_random_mutation</span>:<span style=\"color: #0000ff; text-decoration-color: #0000ff\">3</span>                                                                         <span style=\"color: #800000; text-decoration-color: #800000\">│</span>\n",
       "<span style=\"color: #800000; text-decoration-color: #800000\">│</span>                                                                                                  <span style=\"color: #800000; text-decoration-color: #800000\">│</span>\n",
       "<span style=\"color: #800000; text-decoration-color: #800000\">│</span>   <span style=\"color: #7f7f7f; text-decoration-color: #7f7f7f\">1 </span><span style=\"color: #0000ff; text-decoration-color: #0000ff\">def</span> <span style=\"color: #00ff00; text-decoration-color: #00ff00\">get_random_mutation</span>(csv_file_path):                                                      <span style=\"color: #800000; text-decoration-color: #800000\">│</span>\n",
       "<span style=\"color: #800000; text-decoration-color: #800000\">│</span>   <span style=\"color: #7f7f7f; text-decoration-color: #7f7f7f\">2 </span><span style=\"color: #7f7f7f; text-decoration-color: #7f7f7f\">│   </span><span style=\"color: #0000ff; text-decoration-color: #0000ff\">try</span>:                                                                                     <span style=\"color: #800000; text-decoration-color: #800000\">│</span>\n",
       "<span style=\"color: #800000; text-decoration-color: #800000\">│</span> <span style=\"color: #800000; text-decoration-color: #800000\">❱ </span>3 <span style=\"color: #7f7f7f; text-decoration-color: #7f7f7f\">│   │   </span>df = pd.read_csv(csv_file_path, header=<span style=\"color: #0000ff; text-decoration-color: #0000ff\">None</span>, encoding=<span style=\"color: #808000; text-decoration-color: #808000\">'utf-8'</span>, delimiter=<span style=\"color: #808000; text-decoration-color: #808000\">'.'</span>)        <span style=\"color: #800000; text-decoration-color: #800000\">│</span>\n",
       "<span style=\"color: #800000; text-decoration-color: #800000\">│</span>   <span style=\"color: #7f7f7f; text-decoration-color: #7f7f7f\">4 </span><span style=\"color: #7f7f7f; text-decoration-color: #7f7f7f\">│   </span><span style=\"color: #0000ff; text-decoration-color: #0000ff\">except</span> <span style=\"color: #00ffff; text-decoration-color: #00ffff\">UnicodeDecodeError</span>:                                                               <span style=\"color: #800000; text-decoration-color: #800000\">│</span>\n",
       "<span style=\"color: #800000; text-decoration-color: #800000\">│</span>   <span style=\"color: #7f7f7f; text-decoration-color: #7f7f7f\">5 </span><span style=\"color: #7f7f7f; text-decoration-color: #7f7f7f\">│   │   </span>df = pd.read_csv(csv_file_path, header=<span style=\"color: #0000ff; text-decoration-color: #0000ff\">None</span>, encoding=<span style=\"color: #808000; text-decoration-color: #808000\">'ISO-8859-1'</span>, delimiter=<span style=\"color: #808000; text-decoration-color: #808000\">'.</span>     <span style=\"color: #800000; text-decoration-color: #800000\">│</span>\n",
       "<span style=\"color: #800000; text-decoration-color: #800000\">│</span>   <span style=\"color: #7f7f7f; text-decoration-color: #7f7f7f\">6 </span>                                                                                             <span style=\"color: #800000; text-decoration-color: #800000\">│</span>\n",
       "<span style=\"color: #800000; text-decoration-color: #800000\">│</span>                                                                                                  <span style=\"color: #800000; text-decoration-color: #800000\">│</span>\n",
       "<span style=\"color: #800000; text-decoration-color: #800000\">│</span> <span style=\"color: #bfbf7f; text-decoration-color: #bfbf7f\">/Library/Frameworks/Python.framework/Versions/3.9/lib/python3.9/site-packages/pandas/util/</span><span style=\"color: #808000; text-decoration-color: #808000; font-weight: bold\">_decor</span> <span style=\"color: #800000; text-decoration-color: #800000\">│</span>\n",
       "<span style=\"color: #800000; text-decoration-color: #800000\">│</span> <span style=\"color: #808000; text-decoration-color: #808000; font-weight: bold\">ators.py</span>:<span style=\"color: #0000ff; text-decoration-color: #0000ff\">211</span> in <span style=\"color: #00ff00; text-decoration-color: #00ff00\">wrapper</span>                                                                          <span style=\"color: #800000; text-decoration-color: #800000\">│</span>\n",
       "<span style=\"color: #800000; text-decoration-color: #800000\">│</span>                                                                                                  <span style=\"color: #800000; text-decoration-color: #800000\">│</span>\n",
       "<span style=\"color: #800000; text-decoration-color: #800000\">│</span>   <span style=\"color: #7f7f7f; text-decoration-color: #7f7f7f\">208 </span><span style=\"color: #7f7f7f; text-decoration-color: #7f7f7f\">│   │   │   │   │   </span><span style=\"color: #0000ff; text-decoration-color: #0000ff\">raise</span> <span style=\"color: #00ffff; text-decoration-color: #00ffff\">TypeError</span>(msg)                                                   <span style=\"color: #800000; text-decoration-color: #800000\">│</span>\n",
       "<span style=\"color: #800000; text-decoration-color: #800000\">│</span>   <span style=\"color: #7f7f7f; text-decoration-color: #7f7f7f\">209 </span><span style=\"color: #7f7f7f; text-decoration-color: #7f7f7f\">│   │   │   │   </span><span style=\"color: #0000ff; text-decoration-color: #0000ff\">else</span>:                                                                      <span style=\"color: #800000; text-decoration-color: #800000\">│</span>\n",
       "<span style=\"color: #800000; text-decoration-color: #800000\">│</span>   <span style=\"color: #7f7f7f; text-decoration-color: #7f7f7f\">210 </span><span style=\"color: #7f7f7f; text-decoration-color: #7f7f7f\">│   │   │   │   │   </span>kwargs[new_arg_name] = new_arg_value                                   <span style=\"color: #800000; text-decoration-color: #800000\">│</span>\n",
       "<span style=\"color: #800000; text-decoration-color: #800000\">│</span> <span style=\"color: #800000; text-decoration-color: #800000\">❱ </span>211 <span style=\"color: #7f7f7f; text-decoration-color: #7f7f7f\">│   │   │   </span><span style=\"color: #0000ff; text-decoration-color: #0000ff\">return</span> func(*args, **kwargs)                                                   <span style=\"color: #800000; text-decoration-color: #800000\">│</span>\n",
       "<span style=\"color: #800000; text-decoration-color: #800000\">│</span>   <span style=\"color: #7f7f7f; text-decoration-color: #7f7f7f\">212 </span><span style=\"color: #7f7f7f; text-decoration-color: #7f7f7f\">│   │   </span>                                                                                   <span style=\"color: #800000; text-decoration-color: #800000\">│</span>\n",
       "<span style=\"color: #800000; text-decoration-color: #800000\">│</span>   <span style=\"color: #7f7f7f; text-decoration-color: #7f7f7f\">213 </span><span style=\"color: #7f7f7f; text-decoration-color: #7f7f7f\">│   │   </span><span style=\"color: #0000ff; text-decoration-color: #0000ff\">return</span> cast(F, wrapper)                                                            <span style=\"color: #800000; text-decoration-color: #800000\">│</span>\n",
       "<span style=\"color: #800000; text-decoration-color: #800000\">│</span>   <span style=\"color: #7f7f7f; text-decoration-color: #7f7f7f\">214 </span>                                                                                           <span style=\"color: #800000; text-decoration-color: #800000\">│</span>\n",
       "<span style=\"color: #800000; text-decoration-color: #800000\">│</span>                                                                                                  <span style=\"color: #800000; text-decoration-color: #800000\">│</span>\n",
       "<span style=\"color: #800000; text-decoration-color: #800000\">│</span> <span style=\"color: #bfbf7f; text-decoration-color: #bfbf7f\">/Library/Frameworks/Python.framework/Versions/3.9/lib/python3.9/site-packages/pandas/util/</span><span style=\"color: #808000; text-decoration-color: #808000; font-weight: bold\">_decor</span> <span style=\"color: #800000; text-decoration-color: #800000\">│</span>\n",
       "<span style=\"color: #800000; text-decoration-color: #800000\">│</span> <span style=\"color: #808000; text-decoration-color: #808000; font-weight: bold\">ators.py</span>:<span style=\"color: #0000ff; text-decoration-color: #0000ff\">331</span> in <span style=\"color: #00ff00; text-decoration-color: #00ff00\">wrapper</span>                                                                          <span style=\"color: #800000; text-decoration-color: #800000\">│</span>\n",
       "<span style=\"color: #800000; text-decoration-color: #800000\">│</span>                                                                                                  <span style=\"color: #800000; text-decoration-color: #800000\">│</span>\n",
       "<span style=\"color: #800000; text-decoration-color: #800000\">│</span>   <span style=\"color: #7f7f7f; text-decoration-color: #7f7f7f\">328 </span><span style=\"color: #7f7f7f; text-decoration-color: #7f7f7f\">│   │   │   │   │   </span><span style=\"color: #00ffff; text-decoration-color: #00ffff\">FutureWarning</span>,                                                         <span style=\"color: #800000; text-decoration-color: #800000\">│</span>\n",
       "<span style=\"color: #800000; text-decoration-color: #800000\">│</span>   <span style=\"color: #7f7f7f; text-decoration-color: #7f7f7f\">329 </span><span style=\"color: #7f7f7f; text-decoration-color: #7f7f7f\">│   │   │   │   │   </span>stacklevel=find_stack_level(),                                         <span style=\"color: #800000; text-decoration-color: #800000\">│</span>\n",
       "<span style=\"color: #800000; text-decoration-color: #800000\">│</span>   <span style=\"color: #7f7f7f; text-decoration-color: #7f7f7f\">330 </span><span style=\"color: #7f7f7f; text-decoration-color: #7f7f7f\">│   │   │   │   </span>)                                                                          <span style=\"color: #800000; text-decoration-color: #800000\">│</span>\n",
       "<span style=\"color: #800000; text-decoration-color: #800000\">│</span> <span style=\"color: #800000; text-decoration-color: #800000\">❱ </span>331 <span style=\"color: #7f7f7f; text-decoration-color: #7f7f7f\">│   │   │   </span><span style=\"color: #0000ff; text-decoration-color: #0000ff\">return</span> func(*args, **kwargs)                                                   <span style=\"color: #800000; text-decoration-color: #800000\">│</span>\n",
       "<span style=\"color: #800000; text-decoration-color: #800000\">│</span>   <span style=\"color: #7f7f7f; text-decoration-color: #7f7f7f\">332 </span><span style=\"color: #7f7f7f; text-decoration-color: #7f7f7f\">│   │   </span>                                                                                   <span style=\"color: #800000; text-decoration-color: #800000\">│</span>\n",
       "<span style=\"color: #800000; text-decoration-color: #800000\">│</span>   <span style=\"color: #7f7f7f; text-decoration-color: #7f7f7f\">333 </span><span style=\"color: #7f7f7f; text-decoration-color: #7f7f7f\">│   │   </span><span style=\"color: #7f7f7f; text-decoration-color: #7f7f7f\"># error: \"Callable[[VarArg(Any), KwArg(Any)], Any]\" has no</span>                         <span style=\"color: #800000; text-decoration-color: #800000\">│</span>\n",
       "<span style=\"color: #800000; text-decoration-color: #800000\">│</span>   <span style=\"color: #7f7f7f; text-decoration-color: #7f7f7f\">334 </span><span style=\"color: #7f7f7f; text-decoration-color: #7f7f7f\">│   │   </span><span style=\"color: #7f7f7f; text-decoration-color: #7f7f7f\"># attribute \"__signature__\"</span>                                                        <span style=\"color: #800000; text-decoration-color: #800000\">│</span>\n",
       "<span style=\"color: #800000; text-decoration-color: #800000\">│</span>                                                                                                  <span style=\"color: #800000; text-decoration-color: #800000\">│</span>\n",
       "<span style=\"color: #800000; text-decoration-color: #800000\">│</span> <span style=\"color: #bfbf7f; text-decoration-color: #bfbf7f\">/Library/Frameworks/Python.framework/Versions/3.9/lib/python3.9/site-packages/pandas/io/parsers/</span> <span style=\"color: #800000; text-decoration-color: #800000\">│</span>\n",
       "<span style=\"color: #800000; text-decoration-color: #800000\">│</span> <span style=\"color: #808000; text-decoration-color: #808000; font-weight: bold\">readers.py</span>:<span style=\"color: #0000ff; text-decoration-color: #0000ff\">950</span> in <span style=\"color: #00ff00; text-decoration-color: #00ff00\">read_csv</span>                                                                       <span style=\"color: #800000; text-decoration-color: #800000\">│</span>\n",
       "<span style=\"color: #800000; text-decoration-color: #800000\">│</span>                                                                                                  <span style=\"color: #800000; text-decoration-color: #800000\">│</span>\n",
       "<span style=\"color: #800000; text-decoration-color: #800000\">│</span>   <span style=\"color: #7f7f7f; text-decoration-color: #7f7f7f\"> 947 </span><span style=\"color: #7f7f7f; text-decoration-color: #7f7f7f\">│   </span>)                                                                                     <span style=\"color: #800000; text-decoration-color: #800000\">│</span>\n",
       "<span style=\"color: #800000; text-decoration-color: #800000\">│</span>   <span style=\"color: #7f7f7f; text-decoration-color: #7f7f7f\"> 948 </span><span style=\"color: #7f7f7f; text-decoration-color: #7f7f7f\">│   </span>kwds.update(kwds_defaults)                                                            <span style=\"color: #800000; text-decoration-color: #800000\">│</span>\n",
       "<span style=\"color: #800000; text-decoration-color: #800000\">│</span>   <span style=\"color: #7f7f7f; text-decoration-color: #7f7f7f\"> 949 </span><span style=\"color: #7f7f7f; text-decoration-color: #7f7f7f\">│   </span>                                                                                      <span style=\"color: #800000; text-decoration-color: #800000\">│</span>\n",
       "<span style=\"color: #800000; text-decoration-color: #800000\">│</span> <span style=\"color: #800000; text-decoration-color: #800000\">❱ </span> 950 <span style=\"color: #7f7f7f; text-decoration-color: #7f7f7f\">│   </span><span style=\"color: #0000ff; text-decoration-color: #0000ff\">return</span> _read(filepath_or_buffer, kwds)                                                <span style=\"color: #800000; text-decoration-color: #800000\">│</span>\n",
       "<span style=\"color: #800000; text-decoration-color: #800000\">│</span>   <span style=\"color: #7f7f7f; text-decoration-color: #7f7f7f\"> 951 </span>                                                                                          <span style=\"color: #800000; text-decoration-color: #800000\">│</span>\n",
       "<span style=\"color: #800000; text-decoration-color: #800000\">│</span>   <span style=\"color: #7f7f7f; text-decoration-color: #7f7f7f\"> 952 </span>                                                                                          <span style=\"color: #800000; text-decoration-color: #800000\">│</span>\n",
       "<span style=\"color: #800000; text-decoration-color: #800000\">│</span>   <span style=\"color: #7f7f7f; text-decoration-color: #7f7f7f\"> 953 # iterator=True -&gt; TextFileReader</span>                                                         <span style=\"color: #800000; text-decoration-color: #800000\">│</span>\n",
       "<span style=\"color: #800000; text-decoration-color: #800000\">│</span>                                                                                                  <span style=\"color: #800000; text-decoration-color: #800000\">│</span>\n",
       "<span style=\"color: #800000; text-decoration-color: #800000\">│</span> <span style=\"color: #bfbf7f; text-decoration-color: #bfbf7f\">/Library/Frameworks/Python.framework/Versions/3.9/lib/python3.9/site-packages/pandas/io/parsers/</span> <span style=\"color: #800000; text-decoration-color: #800000\">│</span>\n",
       "<span style=\"color: #800000; text-decoration-color: #800000\">│</span> <span style=\"color: #808000; text-decoration-color: #808000; font-weight: bold\">readers.py</span>:<span style=\"color: #0000ff; text-decoration-color: #0000ff\">611</span> in <span style=\"color: #00ff00; text-decoration-color: #00ff00\">_read</span>                                                                          <span style=\"color: #800000; text-decoration-color: #800000\">│</span>\n",
       "<span style=\"color: #800000; text-decoration-color: #800000\">│</span>                                                                                                  <span style=\"color: #800000; text-decoration-color: #800000\">│</span>\n",
       "<span style=\"color: #800000; text-decoration-color: #800000\">│</span>   <span style=\"color: #7f7f7f; text-decoration-color: #7f7f7f\"> 608 </span><span style=\"color: #7f7f7f; text-decoration-color: #7f7f7f\">│   │   </span><span style=\"color: #0000ff; text-decoration-color: #0000ff\">return</span> parser                                                                     <span style=\"color: #800000; text-decoration-color: #800000\">│</span>\n",
       "<span style=\"color: #800000; text-decoration-color: #800000\">│</span>   <span style=\"color: #7f7f7f; text-decoration-color: #7f7f7f\"> 609 </span><span style=\"color: #7f7f7f; text-decoration-color: #7f7f7f\">│   </span>                                                                                      <span style=\"color: #800000; text-decoration-color: #800000\">│</span>\n",
       "<span style=\"color: #800000; text-decoration-color: #800000\">│</span>   <span style=\"color: #7f7f7f; text-decoration-color: #7f7f7f\"> 610 </span><span style=\"color: #7f7f7f; text-decoration-color: #7f7f7f\">│   </span><span style=\"color: #0000ff; text-decoration-color: #0000ff\">with</span> parser:                                                                          <span style=\"color: #800000; text-decoration-color: #800000\">│</span>\n",
       "<span style=\"color: #800000; text-decoration-color: #800000\">│</span> <span style=\"color: #800000; text-decoration-color: #800000\">❱ </span> 611 <span style=\"color: #7f7f7f; text-decoration-color: #7f7f7f\">│   │   </span><span style=\"color: #0000ff; text-decoration-color: #0000ff\">return</span> parser.read(nrows)                                                         <span style=\"color: #800000; text-decoration-color: #800000\">│</span>\n",
       "<span style=\"color: #800000; text-decoration-color: #800000\">│</span>   <span style=\"color: #7f7f7f; text-decoration-color: #7f7f7f\"> 612 </span>                                                                                          <span style=\"color: #800000; text-decoration-color: #800000\">│</span>\n",
       "<span style=\"color: #800000; text-decoration-color: #800000\">│</span>   <span style=\"color: #7f7f7f; text-decoration-color: #7f7f7f\"> 613 </span>                                                                                          <span style=\"color: #800000; text-decoration-color: #800000\">│</span>\n",
       "<span style=\"color: #800000; text-decoration-color: #800000\">│</span>   <span style=\"color: #7f7f7f; text-decoration-color: #7f7f7f\"> 614 # iterator=True -&gt; TextFileReader</span>                                                         <span style=\"color: #800000; text-decoration-color: #800000\">│</span>\n",
       "<span style=\"color: #800000; text-decoration-color: #800000\">│</span>                                                                                                  <span style=\"color: #800000; text-decoration-color: #800000\">│</span>\n",
       "<span style=\"color: #800000; text-decoration-color: #800000\">│</span> <span style=\"color: #bfbf7f; text-decoration-color: #bfbf7f\">/Library/Frameworks/Python.framework/Versions/3.9/lib/python3.9/site-packages/pandas/io/parsers/</span> <span style=\"color: #800000; text-decoration-color: #800000\">│</span>\n",
       "<span style=\"color: #800000; text-decoration-color: #800000\">│</span> <span style=\"color: #808000; text-decoration-color: #808000; font-weight: bold\">readers.py</span>:<span style=\"color: #0000ff; text-decoration-color: #0000ff\">1778</span> in <span style=\"color: #00ff00; text-decoration-color: #00ff00\">read</span>                                                                          <span style=\"color: #800000; text-decoration-color: #800000\">│</span>\n",
       "<span style=\"color: #800000; text-decoration-color: #800000\">│</span>                                                                                                  <span style=\"color: #800000; text-decoration-color: #800000\">│</span>\n",
       "<span style=\"color: #800000; text-decoration-color: #800000\">│</span>   <span style=\"color: #7f7f7f; text-decoration-color: #7f7f7f\">1775 </span><span style=\"color: #7f7f7f; text-decoration-color: #7f7f7f\">│   │   │   │   │   </span>index,                                                                <span style=\"color: #800000; text-decoration-color: #800000\">│</span>\n",
       "<span style=\"color: #800000; text-decoration-color: #800000\">│</span>   <span style=\"color: #7f7f7f; text-decoration-color: #7f7f7f\">1776 </span><span style=\"color: #7f7f7f; text-decoration-color: #7f7f7f\">│   │   │   │   │   </span>columns,                                                              <span style=\"color: #800000; text-decoration-color: #800000\">│</span>\n",
       "<span style=\"color: #800000; text-decoration-color: #800000\">│</span>   <span style=\"color: #7f7f7f; text-decoration-color: #7f7f7f\">1777 </span><span style=\"color: #7f7f7f; text-decoration-color: #7f7f7f\">│   │   │   │   │   </span>col_dict,                                                             <span style=\"color: #800000; text-decoration-color: #800000\">│</span>\n",
       "<span style=\"color: #800000; text-decoration-color: #800000\">│</span> <span style=\"color: #800000; text-decoration-color: #800000\">❱ </span>1778 <span style=\"color: #7f7f7f; text-decoration-color: #7f7f7f\">│   │   │   │   </span>) = <span style=\"color: #00ffff; text-decoration-color: #00ffff\">self</span>._engine.read(  <span style=\"color: #7f7f7f; text-decoration-color: #7f7f7f\"># type: ignore[attr-defined]</span>                      <span style=\"color: #800000; text-decoration-color: #800000\">│</span>\n",
       "<span style=\"color: #800000; text-decoration-color: #800000\">│</span>   <span style=\"color: #7f7f7f; text-decoration-color: #7f7f7f\">1779 </span><span style=\"color: #7f7f7f; text-decoration-color: #7f7f7f\">│   │   │   │   │   </span>nrows                                                                 <span style=\"color: #800000; text-decoration-color: #800000\">│</span>\n",
       "<span style=\"color: #800000; text-decoration-color: #800000\">│</span>   <span style=\"color: #7f7f7f; text-decoration-color: #7f7f7f\">1780 </span><span style=\"color: #7f7f7f; text-decoration-color: #7f7f7f\">│   │   │   │   </span>)                                                                         <span style=\"color: #800000; text-decoration-color: #800000\">│</span>\n",
       "<span style=\"color: #800000; text-decoration-color: #800000\">│</span>   <span style=\"color: #7f7f7f; text-decoration-color: #7f7f7f\">1781 </span><span style=\"color: #7f7f7f; text-decoration-color: #7f7f7f\">│   │   │   </span><span style=\"color: #0000ff; text-decoration-color: #0000ff\">except</span> <span style=\"color: #00ffff; text-decoration-color: #00ffff\">Exception</span>:                                                             <span style=\"color: #800000; text-decoration-color: #800000\">│</span>\n",
       "<span style=\"color: #800000; text-decoration-color: #800000\">│</span>                                                                                                  <span style=\"color: #800000; text-decoration-color: #800000\">│</span>\n",
       "<span style=\"color: #800000; text-decoration-color: #800000\">│</span> <span style=\"color: #bfbf7f; text-decoration-color: #bfbf7f\">/Library/Frameworks/Python.framework/Versions/3.9/lib/python3.9/site-packages/pandas/io/parsers/</span> <span style=\"color: #800000; text-decoration-color: #800000\">│</span>\n",
       "<span style=\"color: #800000; text-decoration-color: #800000\">│</span> <span style=\"color: #808000; text-decoration-color: #808000; font-weight: bold\">c_parser_wrapper.py</span>:<span style=\"color: #0000ff; text-decoration-color: #0000ff\">230</span> in <span style=\"color: #00ff00; text-decoration-color: #00ff00\">read</span>                                                                  <span style=\"color: #800000; text-decoration-color: #800000\">│</span>\n",
       "<span style=\"color: #800000; text-decoration-color: #800000\">│</span>                                                                                                  <span style=\"color: #800000; text-decoration-color: #800000\">│</span>\n",
       "<span style=\"color: #800000; text-decoration-color: #800000\">│</span>   <span style=\"color: #7f7f7f; text-decoration-color: #7f7f7f\">227 </span><span style=\"color: #7f7f7f; text-decoration-color: #7f7f7f\">│   │   </span>column_names: Sequence[Hashable] | MultiIndex                                      <span style=\"color: #800000; text-decoration-color: #800000\">│</span>\n",
       "<span style=\"color: #800000; text-decoration-color: #800000\">│</span>   <span style=\"color: #7f7f7f; text-decoration-color: #7f7f7f\">228 </span><span style=\"color: #7f7f7f; text-decoration-color: #7f7f7f\">│   │   </span><span style=\"color: #0000ff; text-decoration-color: #0000ff\">try</span>:                                                                               <span style=\"color: #800000; text-decoration-color: #800000\">│</span>\n",
       "<span style=\"color: #800000; text-decoration-color: #800000\">│</span>   <span style=\"color: #7f7f7f; text-decoration-color: #7f7f7f\">229 </span><span style=\"color: #7f7f7f; text-decoration-color: #7f7f7f\">│   │   │   </span><span style=\"color: #0000ff; text-decoration-color: #0000ff\">if</span> <span style=\"color: #00ffff; text-decoration-color: #00ffff\">self</span>.low_memory:                                                            <span style=\"color: #800000; text-decoration-color: #800000\">│</span>\n",
       "<span style=\"color: #800000; text-decoration-color: #800000\">│</span> <span style=\"color: #800000; text-decoration-color: #800000\">❱ </span>230 <span style=\"color: #7f7f7f; text-decoration-color: #7f7f7f\">│   │   │   │   </span>chunks = <span style=\"color: #00ffff; text-decoration-color: #00ffff\">self</span>._reader.read_low_memory(nrows)                               <span style=\"color: #800000; text-decoration-color: #800000\">│</span>\n",
       "<span style=\"color: #800000; text-decoration-color: #800000\">│</span>   <span style=\"color: #7f7f7f; text-decoration-color: #7f7f7f\">231 </span><span style=\"color: #7f7f7f; text-decoration-color: #7f7f7f\">│   │   │   │   </span><span style=\"color: #7f7f7f; text-decoration-color: #7f7f7f\"># destructive to chunks</span>                                                    <span style=\"color: #800000; text-decoration-color: #800000\">│</span>\n",
       "<span style=\"color: #800000; text-decoration-color: #800000\">│</span>   <span style=\"color: #7f7f7f; text-decoration-color: #7f7f7f\">232 </span><span style=\"color: #7f7f7f; text-decoration-color: #7f7f7f\">│   │   │   │   </span>data = _concatenate_chunks(chunks)                                         <span style=\"color: #800000; text-decoration-color: #800000\">│</span>\n",
       "<span style=\"color: #800000; text-decoration-color: #800000\">│</span>   <span style=\"color: #7f7f7f; text-decoration-color: #7f7f7f\">233 </span>                                                                                           <span style=\"color: #800000; text-decoration-color: #800000\">│</span>\n",
       "<span style=\"color: #800000; text-decoration-color: #800000\">│</span>                                                                                                  <span style=\"color: #800000; text-decoration-color: #800000\">│</span>\n",
       "<span style=\"color: #800000; text-decoration-color: #800000\">│</span> in <span style=\"color: #00ff00; text-decoration-color: #00ff00\">pandas._libs.parsers.TextReader.read_low_memory</span>:<span style=\"color: #0000ff; text-decoration-color: #0000ff\">808</span>                                           <span style=\"color: #800000; text-decoration-color: #800000\">│</span>\n",
       "<span style=\"color: #800000; text-decoration-color: #800000\">│</span>                                                                                                  <span style=\"color: #800000; text-decoration-color: #800000\">│</span>\n",
       "<span style=\"color: #800000; text-decoration-color: #800000\">│</span> in <span style=\"color: #00ff00; text-decoration-color: #00ff00\">pandas._libs.parsers.TextReader._read_rows</span>:<span style=\"color: #0000ff; text-decoration-color: #0000ff\">866</span>                                                <span style=\"color: #800000; text-decoration-color: #800000\">│</span>\n",
       "<span style=\"color: #800000; text-decoration-color: #800000\">│</span>                                                                                                  <span style=\"color: #800000; text-decoration-color: #800000\">│</span>\n",
       "<span style=\"color: #800000; text-decoration-color: #800000\">│</span> in <span style=\"color: #00ff00; text-decoration-color: #00ff00\">pandas._libs.parsers.TextReader._tokenize_rows</span>:<span style=\"color: #0000ff; text-decoration-color: #0000ff\">852</span>                                            <span style=\"color: #800000; text-decoration-color: #800000\">│</span>\n",
       "<span style=\"color: #800000; text-decoration-color: #800000\">│</span>                                                                                                  <span style=\"color: #800000; text-decoration-color: #800000\">│</span>\n",
       "<span style=\"color: #800000; text-decoration-color: #800000\">│</span> in <span style=\"color: #00ff00; text-decoration-color: #00ff00\">pandas._libs.parsers.raise_parser_error</span>:<span style=\"color: #0000ff; text-decoration-color: #0000ff\">1973</span>                                                  <span style=\"color: #800000; text-decoration-color: #800000\">│</span>\n",
       "<span style=\"color: #800000; text-decoration-color: #800000\">╰──────────────────────────────────────────────────────────────────────────────────────────────────╯</span>\n",
       "<span style=\"color: #ff0000; text-decoration-color: #ff0000; font-weight: bold\">ParserError: </span>Error tokenizing data. C error: Expected <span style=\"color: #008080; text-decoration-color: #008080; font-weight: bold\">1</span> fields in line <span style=\"color: #008080; text-decoration-color: #008080; font-weight: bold\">11</span>, saw <span style=\"color: #008080; text-decoration-color: #008080; font-weight: bold\">2</span>\n",
       "\n",
       "</pre>\n"
      ],
      "text/plain": [
       "\u001b[31m╭─\u001b[0m\u001b[31m──────────────────────────────\u001b[0m\u001b[31m \u001b[0m\u001b[1;31mTraceback \u001b[0m\u001b[1;2;31m(most recent call last)\u001b[0m\u001b[31m \u001b[0m\u001b[31m───────────────────────────────\u001b[0m\u001b[31m─╮\u001b[0m\n",
       "\u001b[31m│\u001b[0m in \u001b[92m<module>\u001b[0m:\u001b[94m1\u001b[0m                                                                                    \u001b[31m│\u001b[0m\n",
       "\u001b[31m│\u001b[0m                                                                                                  \u001b[31m│\u001b[0m\n",
       "\u001b[31m│\u001b[0m \u001b[31m❱ \u001b[0m1 mutation_prompt = get_random_mutation(\u001b[33m\"\u001b[0m\u001b[33m./Prompt-Engineering-OpenDI/mutation_prompts.csv\u001b[0m\u001b[33m\"\u001b[0m     \u001b[31m│\u001b[0m\n",
       "\u001b[31m│\u001b[0m   \u001b[2m2 \u001b[0m                                                                                             \u001b[31m│\u001b[0m\n",
       "\u001b[31m│\u001b[0m                                                                                                  \u001b[31m│\u001b[0m\n",
       "\u001b[31m│\u001b[0m in \u001b[92mget_random_mutation\u001b[0m:\u001b[94m3\u001b[0m                                                                         \u001b[31m│\u001b[0m\n",
       "\u001b[31m│\u001b[0m                                                                                                  \u001b[31m│\u001b[0m\n",
       "\u001b[31m│\u001b[0m   \u001b[2m1 \u001b[0m\u001b[94mdef\u001b[0m \u001b[92mget_random_mutation\u001b[0m(csv_file_path):                                                      \u001b[31m│\u001b[0m\n",
       "\u001b[31m│\u001b[0m   \u001b[2m2 \u001b[0m\u001b[2m│   \u001b[0m\u001b[94mtry\u001b[0m:                                                                                     \u001b[31m│\u001b[0m\n",
       "\u001b[31m│\u001b[0m \u001b[31m❱ \u001b[0m3 \u001b[2m│   │   \u001b[0mdf = pd.read_csv(csv_file_path, header=\u001b[94mNone\u001b[0m, encoding=\u001b[33m'\u001b[0m\u001b[33mutf-8\u001b[0m\u001b[33m'\u001b[0m, delimiter=\u001b[33m'\u001b[0m\u001b[33m.\u001b[0m\u001b[33m'\u001b[0m)        \u001b[31m│\u001b[0m\n",
       "\u001b[31m│\u001b[0m   \u001b[2m4 \u001b[0m\u001b[2m│   \u001b[0m\u001b[94mexcept\u001b[0m \u001b[96mUnicodeDecodeError\u001b[0m:                                                               \u001b[31m│\u001b[0m\n",
       "\u001b[31m│\u001b[0m   \u001b[2m5 \u001b[0m\u001b[2m│   │   \u001b[0mdf = pd.read_csv(csv_file_path, header=\u001b[94mNone\u001b[0m, encoding=\u001b[33m'\u001b[0m\u001b[33mISO-8859-1\u001b[0m\u001b[33m'\u001b[0m, delimiter=\u001b[33m'\u001b[0m\u001b[33m.\u001b[0m     \u001b[31m│\u001b[0m\n",
       "\u001b[31m│\u001b[0m   \u001b[2m6 \u001b[0m                                                                                             \u001b[31m│\u001b[0m\n",
       "\u001b[31m│\u001b[0m                                                                                                  \u001b[31m│\u001b[0m\n",
       "\u001b[31m│\u001b[0m \u001b[2;33m/Library/Frameworks/Python.framework/Versions/3.9/lib/python3.9/site-packages/pandas/util/\u001b[0m\u001b[1;33m_decor\u001b[0m \u001b[31m│\u001b[0m\n",
       "\u001b[31m│\u001b[0m \u001b[1;33mators.py\u001b[0m:\u001b[94m211\u001b[0m in \u001b[92mwrapper\u001b[0m                                                                          \u001b[31m│\u001b[0m\n",
       "\u001b[31m│\u001b[0m                                                                                                  \u001b[31m│\u001b[0m\n",
       "\u001b[31m│\u001b[0m   \u001b[2m208 \u001b[0m\u001b[2m│   │   │   │   │   \u001b[0m\u001b[94mraise\u001b[0m \u001b[96mTypeError\u001b[0m(msg)                                                   \u001b[31m│\u001b[0m\n",
       "\u001b[31m│\u001b[0m   \u001b[2m209 \u001b[0m\u001b[2m│   │   │   │   \u001b[0m\u001b[94melse\u001b[0m:                                                                      \u001b[31m│\u001b[0m\n",
       "\u001b[31m│\u001b[0m   \u001b[2m210 \u001b[0m\u001b[2m│   │   │   │   │   \u001b[0mkwargs[new_arg_name] = new_arg_value                                   \u001b[31m│\u001b[0m\n",
       "\u001b[31m│\u001b[0m \u001b[31m❱ \u001b[0m211 \u001b[2m│   │   │   \u001b[0m\u001b[94mreturn\u001b[0m func(*args, **kwargs)                                                   \u001b[31m│\u001b[0m\n",
       "\u001b[31m│\u001b[0m   \u001b[2m212 \u001b[0m\u001b[2m│   │   \u001b[0m                                                                                   \u001b[31m│\u001b[0m\n",
       "\u001b[31m│\u001b[0m   \u001b[2m213 \u001b[0m\u001b[2m│   │   \u001b[0m\u001b[94mreturn\u001b[0m cast(F, wrapper)                                                            \u001b[31m│\u001b[0m\n",
       "\u001b[31m│\u001b[0m   \u001b[2m214 \u001b[0m                                                                                           \u001b[31m│\u001b[0m\n",
       "\u001b[31m│\u001b[0m                                                                                                  \u001b[31m│\u001b[0m\n",
       "\u001b[31m│\u001b[0m \u001b[2;33m/Library/Frameworks/Python.framework/Versions/3.9/lib/python3.9/site-packages/pandas/util/\u001b[0m\u001b[1;33m_decor\u001b[0m \u001b[31m│\u001b[0m\n",
       "\u001b[31m│\u001b[0m \u001b[1;33mators.py\u001b[0m:\u001b[94m331\u001b[0m in \u001b[92mwrapper\u001b[0m                                                                          \u001b[31m│\u001b[0m\n",
       "\u001b[31m│\u001b[0m                                                                                                  \u001b[31m│\u001b[0m\n",
       "\u001b[31m│\u001b[0m   \u001b[2m328 \u001b[0m\u001b[2m│   │   │   │   │   \u001b[0m\u001b[96mFutureWarning\u001b[0m,                                                         \u001b[31m│\u001b[0m\n",
       "\u001b[31m│\u001b[0m   \u001b[2m329 \u001b[0m\u001b[2m│   │   │   │   │   \u001b[0mstacklevel=find_stack_level(),                                         \u001b[31m│\u001b[0m\n",
       "\u001b[31m│\u001b[0m   \u001b[2m330 \u001b[0m\u001b[2m│   │   │   │   \u001b[0m)                                                                          \u001b[31m│\u001b[0m\n",
       "\u001b[31m│\u001b[0m \u001b[31m❱ \u001b[0m331 \u001b[2m│   │   │   \u001b[0m\u001b[94mreturn\u001b[0m func(*args, **kwargs)                                                   \u001b[31m│\u001b[0m\n",
       "\u001b[31m│\u001b[0m   \u001b[2m332 \u001b[0m\u001b[2m│   │   \u001b[0m                                                                                   \u001b[31m│\u001b[0m\n",
       "\u001b[31m│\u001b[0m   \u001b[2m333 \u001b[0m\u001b[2m│   │   \u001b[0m\u001b[2m# error: \"Callable[[VarArg(Any), KwArg(Any)], Any]\" has no\u001b[0m                         \u001b[31m│\u001b[0m\n",
       "\u001b[31m│\u001b[0m   \u001b[2m334 \u001b[0m\u001b[2m│   │   \u001b[0m\u001b[2m# attribute \"__signature__\"\u001b[0m                                                        \u001b[31m│\u001b[0m\n",
       "\u001b[31m│\u001b[0m                                                                                                  \u001b[31m│\u001b[0m\n",
       "\u001b[31m│\u001b[0m \u001b[2;33m/Library/Frameworks/Python.framework/Versions/3.9/lib/python3.9/site-packages/pandas/io/parsers/\u001b[0m \u001b[31m│\u001b[0m\n",
       "\u001b[31m│\u001b[0m \u001b[1;33mreaders.py\u001b[0m:\u001b[94m950\u001b[0m in \u001b[92mread_csv\u001b[0m                                                                       \u001b[31m│\u001b[0m\n",
       "\u001b[31m│\u001b[0m                                                                                                  \u001b[31m│\u001b[0m\n",
       "\u001b[31m│\u001b[0m   \u001b[2m 947 \u001b[0m\u001b[2m│   \u001b[0m)                                                                                     \u001b[31m│\u001b[0m\n",
       "\u001b[31m│\u001b[0m   \u001b[2m 948 \u001b[0m\u001b[2m│   \u001b[0mkwds.update(kwds_defaults)                                                            \u001b[31m│\u001b[0m\n",
       "\u001b[31m│\u001b[0m   \u001b[2m 949 \u001b[0m\u001b[2m│   \u001b[0m                                                                                      \u001b[31m│\u001b[0m\n",
       "\u001b[31m│\u001b[0m \u001b[31m❱ \u001b[0m 950 \u001b[2m│   \u001b[0m\u001b[94mreturn\u001b[0m _read(filepath_or_buffer, kwds)                                                \u001b[31m│\u001b[0m\n",
       "\u001b[31m│\u001b[0m   \u001b[2m 951 \u001b[0m                                                                                          \u001b[31m│\u001b[0m\n",
       "\u001b[31m│\u001b[0m   \u001b[2m 952 \u001b[0m                                                                                          \u001b[31m│\u001b[0m\n",
       "\u001b[31m│\u001b[0m   \u001b[2m 953 \u001b[0m\u001b[2m# iterator=True -> TextFileReader\u001b[0m                                                         \u001b[31m│\u001b[0m\n",
       "\u001b[31m│\u001b[0m                                                                                                  \u001b[31m│\u001b[0m\n",
       "\u001b[31m│\u001b[0m \u001b[2;33m/Library/Frameworks/Python.framework/Versions/3.9/lib/python3.9/site-packages/pandas/io/parsers/\u001b[0m \u001b[31m│\u001b[0m\n",
       "\u001b[31m│\u001b[0m \u001b[1;33mreaders.py\u001b[0m:\u001b[94m611\u001b[0m in \u001b[92m_read\u001b[0m                                                                          \u001b[31m│\u001b[0m\n",
       "\u001b[31m│\u001b[0m                                                                                                  \u001b[31m│\u001b[0m\n",
       "\u001b[31m│\u001b[0m   \u001b[2m 608 \u001b[0m\u001b[2m│   │   \u001b[0m\u001b[94mreturn\u001b[0m parser                                                                     \u001b[31m│\u001b[0m\n",
       "\u001b[31m│\u001b[0m   \u001b[2m 609 \u001b[0m\u001b[2m│   \u001b[0m                                                                                      \u001b[31m│\u001b[0m\n",
       "\u001b[31m│\u001b[0m   \u001b[2m 610 \u001b[0m\u001b[2m│   \u001b[0m\u001b[94mwith\u001b[0m parser:                                                                          \u001b[31m│\u001b[0m\n",
       "\u001b[31m│\u001b[0m \u001b[31m❱ \u001b[0m 611 \u001b[2m│   │   \u001b[0m\u001b[94mreturn\u001b[0m parser.read(nrows)                                                         \u001b[31m│\u001b[0m\n",
       "\u001b[31m│\u001b[0m   \u001b[2m 612 \u001b[0m                                                                                          \u001b[31m│\u001b[0m\n",
       "\u001b[31m│\u001b[0m   \u001b[2m 613 \u001b[0m                                                                                          \u001b[31m│\u001b[0m\n",
       "\u001b[31m│\u001b[0m   \u001b[2m 614 \u001b[0m\u001b[2m# iterator=True -> TextFileReader\u001b[0m                                                         \u001b[31m│\u001b[0m\n",
       "\u001b[31m│\u001b[0m                                                                                                  \u001b[31m│\u001b[0m\n",
       "\u001b[31m│\u001b[0m \u001b[2;33m/Library/Frameworks/Python.framework/Versions/3.9/lib/python3.9/site-packages/pandas/io/parsers/\u001b[0m \u001b[31m│\u001b[0m\n",
       "\u001b[31m│\u001b[0m \u001b[1;33mreaders.py\u001b[0m:\u001b[94m1778\u001b[0m in \u001b[92mread\u001b[0m                                                                          \u001b[31m│\u001b[0m\n",
       "\u001b[31m│\u001b[0m                                                                                                  \u001b[31m│\u001b[0m\n",
       "\u001b[31m│\u001b[0m   \u001b[2m1775 \u001b[0m\u001b[2m│   │   │   │   │   \u001b[0mindex,                                                                \u001b[31m│\u001b[0m\n",
       "\u001b[31m│\u001b[0m   \u001b[2m1776 \u001b[0m\u001b[2m│   │   │   │   │   \u001b[0mcolumns,                                                              \u001b[31m│\u001b[0m\n",
       "\u001b[31m│\u001b[0m   \u001b[2m1777 \u001b[0m\u001b[2m│   │   │   │   │   \u001b[0mcol_dict,                                                             \u001b[31m│\u001b[0m\n",
       "\u001b[31m│\u001b[0m \u001b[31m❱ \u001b[0m1778 \u001b[2m│   │   │   │   \u001b[0m) = \u001b[96mself\u001b[0m._engine.read(  \u001b[2m# type: ignore[attr-defined]\u001b[0m                      \u001b[31m│\u001b[0m\n",
       "\u001b[31m│\u001b[0m   \u001b[2m1779 \u001b[0m\u001b[2m│   │   │   │   │   \u001b[0mnrows                                                                 \u001b[31m│\u001b[0m\n",
       "\u001b[31m│\u001b[0m   \u001b[2m1780 \u001b[0m\u001b[2m│   │   │   │   \u001b[0m)                                                                         \u001b[31m│\u001b[0m\n",
       "\u001b[31m│\u001b[0m   \u001b[2m1781 \u001b[0m\u001b[2m│   │   │   \u001b[0m\u001b[94mexcept\u001b[0m \u001b[96mException\u001b[0m:                                                             \u001b[31m│\u001b[0m\n",
       "\u001b[31m│\u001b[0m                                                                                                  \u001b[31m│\u001b[0m\n",
       "\u001b[31m│\u001b[0m \u001b[2;33m/Library/Frameworks/Python.framework/Versions/3.9/lib/python3.9/site-packages/pandas/io/parsers/\u001b[0m \u001b[31m│\u001b[0m\n",
       "\u001b[31m│\u001b[0m \u001b[1;33mc_parser_wrapper.py\u001b[0m:\u001b[94m230\u001b[0m in \u001b[92mread\u001b[0m                                                                  \u001b[31m│\u001b[0m\n",
       "\u001b[31m│\u001b[0m                                                                                                  \u001b[31m│\u001b[0m\n",
       "\u001b[31m│\u001b[0m   \u001b[2m227 \u001b[0m\u001b[2m│   │   \u001b[0mcolumn_names: Sequence[Hashable] | MultiIndex                                      \u001b[31m│\u001b[0m\n",
       "\u001b[31m│\u001b[0m   \u001b[2m228 \u001b[0m\u001b[2m│   │   \u001b[0m\u001b[94mtry\u001b[0m:                                                                               \u001b[31m│\u001b[0m\n",
       "\u001b[31m│\u001b[0m   \u001b[2m229 \u001b[0m\u001b[2m│   │   │   \u001b[0m\u001b[94mif\u001b[0m \u001b[96mself\u001b[0m.low_memory:                                                            \u001b[31m│\u001b[0m\n",
       "\u001b[31m│\u001b[0m \u001b[31m❱ \u001b[0m230 \u001b[2m│   │   │   │   \u001b[0mchunks = \u001b[96mself\u001b[0m._reader.read_low_memory(nrows)                               \u001b[31m│\u001b[0m\n",
       "\u001b[31m│\u001b[0m   \u001b[2m231 \u001b[0m\u001b[2m│   │   │   │   \u001b[0m\u001b[2m# destructive to chunks\u001b[0m                                                    \u001b[31m│\u001b[0m\n",
       "\u001b[31m│\u001b[0m   \u001b[2m232 \u001b[0m\u001b[2m│   │   │   │   \u001b[0mdata = _concatenate_chunks(chunks)                                         \u001b[31m│\u001b[0m\n",
       "\u001b[31m│\u001b[0m   \u001b[2m233 \u001b[0m                                                                                           \u001b[31m│\u001b[0m\n",
       "\u001b[31m│\u001b[0m                                                                                                  \u001b[31m│\u001b[0m\n",
       "\u001b[31m│\u001b[0m in \u001b[92mpandas._libs.parsers.TextReader.read_low_memory\u001b[0m:\u001b[94m808\u001b[0m                                           \u001b[31m│\u001b[0m\n",
       "\u001b[31m│\u001b[0m                                                                                                  \u001b[31m│\u001b[0m\n",
       "\u001b[31m│\u001b[0m in \u001b[92mpandas._libs.parsers.TextReader._read_rows\u001b[0m:\u001b[94m866\u001b[0m                                                \u001b[31m│\u001b[0m\n",
       "\u001b[31m│\u001b[0m                                                                                                  \u001b[31m│\u001b[0m\n",
       "\u001b[31m│\u001b[0m in \u001b[92mpandas._libs.parsers.TextReader._tokenize_rows\u001b[0m:\u001b[94m852\u001b[0m                                            \u001b[31m│\u001b[0m\n",
       "\u001b[31m│\u001b[0m                                                                                                  \u001b[31m│\u001b[0m\n",
       "\u001b[31m│\u001b[0m in \u001b[92mpandas._libs.parsers.raise_parser_error\u001b[0m:\u001b[94m1973\u001b[0m                                                  \u001b[31m│\u001b[0m\n",
       "\u001b[31m╰──────────────────────────────────────────────────────────────────────────────────────────────────╯\u001b[0m\n",
       "\u001b[1;91mParserError: \u001b[0mError tokenizing data. C error: Expected \u001b[1;36m1\u001b[0m fields in line \u001b[1;36m11\u001b[0m, saw \u001b[1;36m2\u001b[0m\n",
       "\n"
      ]
     },
     "metadata": {},
     "output_type": "display_data"
    }
   ],
   "source": [
    "mutation_prompt = get_random_mutation(\"./Prompt-Engineering-OpenDI/mutation_prompts.csv\")"
   ]
  },
  {
   "cell_type": "code",
   "execution_count": 64,
   "metadata": {},
   "outputs": [
    {
     "name": "stdout",
     "output_type": "stream",
     "text": [
      "Modify the following instruction creatively, giving some advice on how to solve it:\n"
     ]
    }
   ],
   "source": [
    "mutation_prompt = get_random_mutation_txt(\"./Prompt-Engineering-OpenDI/mutation_prompts.txt\")\n",
    "print(mutation_prompt)"
   ]
  },
  {
   "cell_type": "code",
   "execution_count": 65,
   "metadata": {},
   "outputs": [],
   "source": [
    "def apply_mutation(instruction, mutation_prompt):\n",
    "    # Example mutation - this can be customized based on your mutation logic\n",
    "    return f\"{mutation_prompt} {instruction}\"\n",
    "\n",
    "mutated_instructions = [apply_mutation(instruction, mutation_prompt) for instruction in generated_instructions]\n"
   ]
  },
  {
   "cell_type": "code",
   "execution_count": 66,
   "metadata": {},
   "outputs": [
    {
     "name": "stdout",
     "output_type": "stream",
     "text": [
      "['Modify the following instruction creatively, giving some advice on how to solve it: If Dallas has 21 marbles, then Darla has 21 - 4 = 10 marbles. Mazie gave Darla 10 marbles. The answer: 10.', 'Modify the following instruction creatively, giving some advice on how to solve it: First find the total number of messages Mr. Yu sends: 66 messages / 3 = 66 messages. Then find the total number of messages James delivers to Ms. Thompson: 66 messages + 66 messages = 132 messages. Then find the total number of messages Mr. Yu sends: 132 messages / 3 = 66 messages. Then find the total number of messages James delivers to Ms. Thompson: 66 messages + 132 messages = 132 messages. Then find the total number of messages Mr. Yu sends: 132 messages + 66 messages = 132 messages. Then find the total number of messages Mr. Yu sends: 132 messages + 66 messages = 132 messages. Then find the total number of messages Mr. Yu sends: 132 messages + 66 messages = 132 messages. Then find the total number of messages Mr. Yu sends: 132 messages + 66 messages = 132 messages. Then find the total number of messages Mr. Yu sends: 132 messages + 66 messages = 132 messages. Then find the total number of messages Mr. Yu sends: 132 messages + 66 messages = 132 messages. Then find the total number of messages Mr. Yu sends: 132 messages + 66 messages = 132 messages. Then find the total number of messages Mr. Yu sends: 132 messages + 66 messages = 132 messages. Then find the total number of messages Mr. Yu sends: 132 messages + 66 messages = 132 messages. Then find the total number of messages Mr. Yu sends: 132 messages + 66 messages = 132 messages. Then find the total number of messages Mr. Yu sends: 132 messages + 66 messages = 132 messages. Then find the total number of messages Mr. Yu sends: 132 messages + 66 messages = 132 messages. Then find the total number of messages Mr. Yu sends: 132 messages + 66 messages = 132 messages. Then find the total number of messages Mr. Yu sends: 132 messages + 66 messages = 132 messages. Then find the total number of messages Mr. Yu sends: 132 messages + 66 messages = 132 messages. Then find the total number of messages Mr. Yu sends: 132 messages + 66 messages = 132 messages. Then find the total number of messages Mr. Yu sends: 132 messages + 66 messages = 132 messages. Then find the total number of messages Mr. Yu sends: 132 messages + 66 messages = 132 messages. Then find the total number of messages Mr. Yu sends: 132 messages + 66 messages = 132 messages. Then find the total number of messages Mr. Yu sends: 132 messages + 66 messages = 132 messages. Then find the total number of messages Mr. Yu sends: 132 messages + 66 messages = 132 messages. Then find the total number of messages Mr. Yu sends: 132 messages + 66 messages = 132 messages. Then find the total number of messages Mr. Yu sends: 132 messages + 66 messages = 132 messages. Then find the total number of messages Mr. Yu sends: 132 messages + 66 messages = 132 messages. Then find the total number of messages Mr. Yu sends: 132 messages + 66 messages = 132 messages. Then find the total number of messages Mr. Yu sends: 132 messages + 66 messages = 132 messages. Then find the total number of messages Mr. Yu sends: 132 messages + 66 messages = 132 messages. Then find the total number of messages Mr. Yu sends: 132 messages + 66 messages = 132 messages. Then find the total number of messages Mr. Yu sends: 132 messages + 66 messages = 132 messages. Then find the total number of messages Mr. Yu sends: 132 messages + 66 messages = 132 messages. Then find the total number of messages Mr. Yu sends: 132 messages + 66 messages = 132 messages. Then find the total number of messages Mr. Yu sends: 132 messages + 66 messages = 132 messages. Then find the total number of messages Mr. Yu sends: 132 messages + 66 messages = 132 messages. Then find the total number of messages Mr. Yu sends: 132 messages + 66 messages = 132 messages. Then find the total number of messages Mr. Yu', 'Modify the following instruction creatively, giving some advice on how to solve it: First', 'Modify the following instruction creatively, giving some advice on how to solve it: They make $3 x 20 = $80 for lemons. They make $2 x 20 = $40 for sugar. They make $2 x 20 = $40 for lemons. They make $3 x 40 = $180 for lemons. They make $2 x 20 = $80 for sugar. They make $2 x 20 = $80 for lemons. They make $2 x 20 = $80 for glasses. They make $2 x 20 = $80 for glasses. They make $2 x 20 = $80 for lemons. They make $2 x 20 = $80 for glasses. They make $2 x 20 = $80 for glasses. They make $2 x 20 = $80 for glasses. They make $2 x 20 = $80 for glasses. They make $2 x 20 = $80 for glasses. They make $2 x 20 = $80 for glasses. They make $2 x 20 = $80 for glasses. They make $2 x 20 = $80 for glasses. They make $2 x 20 = $80 for glasses. They make $2 x 20 = $80 for glasses. They make $2 x 20 = $80 for glasses. They make $2 x 20 = $80 for glasses. They make $2 x 20 = $80 for glasses. They make $2 x 20 = $80 for glasses. They make $2 x 20 = $80 for glasses. They make $2 x 20 = $80 for glasses. They make $2 x 20 = $80 for glasses. They make $2 x 20 = $80 for glasses. They make $2 x 20 = $80 for glasses. They make $2 x 20 = $80 for glasses. They make $2 x 20 = $80 for glasses. They make $2 x 20 = $80 for glasses. They make $2 x 20 = $80 for glasses. They make $2 x 20 = $80 for glasses. They make $2 x 20 = $80 for glasses. They make $2 x 20 = $80 for glasses. They make $2 x 20 = $80 for glasses. They make $2 x 20 = $80 for glasses. They make $2 x 20 = $80 for glasses. They make $2 x 20 = $80 for glasses. They make $2 x 20 = $80 for glasses. They make $2 x 20 = $80 for glasses. They make $2 x 20 = $80 for glasses. They make $2 x 20 = $80 for glasses. They make $2 x 20 = $80 for glasses. They make $2 x 20 = $80 for glasses. They make $2 x 20 = $80 for glasses. They make $2 x 20 = $80 for glasses. They make $2 x 20 = $80 for glasses. They make $2 x 20 = $80 for glasses. They make $2 x 20 = $80 for glasses. They make $2 x 20 = $80 for glasses. They make $2 x 20 = $80 for glasses. They make $2 x 20 = $80 for glasses. They make $2 x 20 = $80 for glasses. They make $2 x 20 = $80 for glasses. They make $2 x 20 = $80 for lemons. They make $2 x 20 = $80 for lemons. They make $2 x 20 = $80 for lemons. They make $2 x 20 = $80 for glasses. They make $2 x 20 = $80 for lemons. They make $2 x 20 = $80 for glasses. They make $2 x 20 = $80 for lemons. They make $2 x 20 = $80 for lemons. They make $2 x 20 = $80 for lemons. They make $2 x 20 = $80 for lemons. They make $2 x 20 = $80 for lemons. They make $2 x 20 = $80 for lemons. They make $2 x 20 = $80 for lemons. They make $2 x 20 = $80 for lemons. They make $2 x 20 = $80 for lemons. They make $2 x 20 = $80 for lemons. They make $2 x 20 = $80 for lemons. They make $2 x 20 = $80 for lemons. They make $2 x 20 = $80 for lemons. They make $2 x 20 = $80 for lemons. They make $2 x 20 = $80 for lemons. They make $2 x 20 = $80 for lemons. They make $2 x 20 = $80 for lemons. They make $2 x 20 = $80 for lemons. They make $2 x 20 = $80 for lemons. They make $2 x 20 = $80 for lemons. They', 'Modify the following instruction creatively, giving some advice on how to solve it: On Monday, Frank has 5 + 15 + 30 = 45 pairs of shoes. On Wednesday, Frank has 45 + 30 = 75 pairs of shoes. On Friday, Frank has 45 + 30 = 75 pairs of shoes. On Sunday, Frank has a total of 45 + 75 + 75 = 225 shoes.', 'Modify the following instruction creatively, giving some advice on how to solve it: First find the total number of large - sized picture scenes: 45 large - sized picture scenes * 5 large - sized picture scenes = 450 picture scenes. Then find the total number of medium - sized picture scenes: 36 medium - sized picture scenes * 7 small - sized picture scenes = 108 picture scenes. Then find the total number of small - sized picture scenes: 49 small - sized picture scenes * 7 small - sized picture scenes = 108 picture scenes. Then add the number of large - sized picture scenes to find the total number of picture scenes: 450 picture scenes + 108 picture scenes + 108 picture scenes = 450 picture scenes. Then divide the total number of picture scenes by the number of large - sized picture scenes to find the total number of picture scenes: 450 picture scenes + 108 picture scenes + 108 picture scenes = 450 picture scenes. Then divide the total number of picture scenes by the number of small - sized picture scenes to find the total number of picture scenes: 450 picture scenes + 108 picture scenes + 108 picture scenes = 450 picture scenes. Then divide the total number of picture scenes by the number of small - sized picture scenes to find the total number of picture scenes: 450 picture scenes + 108 picture scenes + 108 picture scenes = 450 picture scenes. Then divide the total number of picture scenes by the number of small - sized picture scenes to find the total number of picture scenes: 450 picture scenes + 108 picture scenes + 108 picture scenes = 450 picture scenes. Then divide the total number of picture scenes by the number of small - sized picture scenes to find the total number of picture scenes: 450 picture scenes + 108 picture scenes + 108 picture scenes = 450 picture scenes. Then divide the total number of picture scenes by the number of small - sized picture scenes to find the total number of picture scenes: 450 picture scenes + 108 picture scenes + 108 picture scenes = 450 picture scenes. Then divide the total number of picture scenes by the number of small - sized picture scenes to find the total number of picture scenes: 450 picture scenes + 108 picture scenes + 108 picture scenes = 450 picture scenes. The answer: 450.', 'Modify the following instruction creatively, giving some advice on how to solve it: The total cost of the razors is $4.00 / pack * 4 packs = $120. The coupon is $2.00 / pack * 2 packs = $20.00. The total cost of the razors is $120 + $20.00 = $240. The total cost of the razors is $240 + $20.00 = $240. The total cost of the razors is $240 + $240 = $240. The total cost of the razors is $240 + $240 = $240. The total cost of the razors is $240 + $240 = $240. The total cost of the razors is $240 + $240 = $240. The total cost of the razors is $240 + $240 = $240. The total cost of the razors is $240 + $240 = $240. The total cost of the razors is $240 + $240 = $240. The total cost of the razors is $240 + $240 = $240. The total cost of the razors is $240 + $240 = $240. The total cost of the razors is $240 + $240 = $240. The total cost of the razors is $240 + $240 = $240. The total cost of the razors is $240 + $240 = $240. The total cost of the razors is $240 + $240 = $240. The total cost of the razors is $240 + $240 = $240. The total cost of the razors is $240 + $240 = $240. The total cost of the razors is $240 + $240 = $240. The total cost of the razors is $240 + $240 = $240. The total cost of the razors is $240 + $240 = $240. The total cost of the razors is $240 + $240 = $240. The total cost of the razors is $240 + $240 = $240. The total cost of the razors is $240 + $240 = $240. The total cost of the razors is $240 + $240 = $240. The total cost of the razors is $240 + $240 = $240. The total cost of the razors is $240 + $240 = $240. The total cost of the razors is $240 + $240 = $240. The total cost of the razors is $240 + $240 = $240. The total cost of the razors is $240 + $240 = $240. The total cost of the razors is $240 + $240 = $240. The total cost of the razors is $240 + $240 = $240. The total cost of the razors is $240 + $240 = $240. The total cost of the razors is $240 + $240 = $240. The total cost of the razors is $240 + $240 = $240. The total cost of the razors is $240 + $240 = $240. The total cost of the razors is $240 + $240 = $240. The total cost of the razors is $240 + $240 = $240. The total cost of the razors is $240 + $240 = $240. The total cost of the razors is $240 + $240 = $240. The total cost of the razors is $240 + $240 = $240. The total cost of the razors is $240 + $240 = $240. The total cost of the razors is $240 + $240 = $240. The total cost of the razors is $240 + $240 = $240. The total cost of the razors is $240 + $240 = $240. The total cost of the razors is $240 + $240 = $240. The total cost of the razors is $240 + $240 = $240. The total cost of the razors is $240 + $240 = $240. The total cost of the razors is $240 + $240 = $240. The total cost of the razors is $240 + $240 = $240. The total cost of the razors is $240 + $240 = $240. The total cost of the razors is $240 + $240 = $240. The total cost of the razors is $240 + $240 = $240. The total cost of the razors is $240 + $240 = $240. The total cost of the razors is $240 + $240 = $240. The total cost of the razors is $240 + $240 = $240. The total cost of the razors is $240 + $240 = $240. The total cost of the razors is $240 + $240', 'Modify the following instruction creatively, giving some advice on how to solve it: The car in the fast lane traveled for a total of 480 miles, so the car in the slow lane took 480 / 60 = 10 miles to cover the same distance. The car in the fast lane took 10 miles to cover the same distance, so the car in the slow lane took 10 * 10 = 120 miles to cover the same distance. The answer: 120.', 'Modify the following instruction creatively, giving some advice on how to solve it: The total number of eggs is 4 dozen eggs + 2 eggs = 8 eggs. The total number of glasses of eggnog is 8 glasses / 5 glasses / glass = 4 glasses. The total number of eggs used is 4 dozen eggs + 2 eggs = 8 eggs. The total number of eggs used is 8 eggs + 4 eggs = 12 eggs. The total number of eggs used is 12 eggs + 2 eggs = 16 eggs. The total number of eggs used is 16 eggs + 8 eggs = 32 eggs. The total number of eggs used is 32 eggs + 2 eggs = 96 eggs. The total number of eggs used is 96 eggs + 2 eggs = 96 eggs. The total number of eggs used is 96 eggs + 2 eggs = 96 eggs. The total number of eggs used is 96 eggs + 2 eggs = 96 eggs. The total number of eggs used is 96 eggs + 2 eggs = 96 eggs. The total number of eggs used is 96 eggs + 2 eggs = 96 eggs. The total number of eggs used is 96 eggs + 2 eggs = 96 eggs. The total number of eggs used is 96 eggs + 2 eggs = 96 eggs. The total number of eggs used is 96 eggs + 2 eggs = 96 eggs. The total number of eggs used is 96 eggs + 2 eggs = 96 eggs. The total number of eggs used is 96 eggs + 2 eggs = 96 eggs. The total number of eggs used is 96 eggs + 2 eggs = 96 eggs. The total number of eggs used is 96 eggs + 2 eggs = 96 eggs. The total number of eggs used is 96 eggs + 2 eggs = 96 eggs. The total number of trays Rozanne can put out is 16 eggs + 8 eggs + 2 eggs = 96 eggs. The answer: 96.', 'Modify the following instruction creatively, giving some advice on how to solve it: The difference between the number of snails in the two aquariums is 4 x 2 = 8 snails. The difference between the number of snails in the two aquariums is 8 - 4 = 8 snails. The difference between the number of snails in the two aquariums is 8 x 2 = 16 snails. The difference between the number of snails in the two aquariums is 16 - 8 = 8 snails. The difference between the number of snails in the two aquariums is 8 x 2 = 16 snails. The difference between the number of snails in the two aquariums is 8 x 2 = 32 snails. The difference between the number of snails in the two aquariums is 8 x 2 = 32 snails. The difference between the number of snails in the two aquariums is 8 x 2 = 32 snails. The difference between the number of snails in the two aquariums is 8 x 2 = 32 snails. The difference between the number of snails in the two aquariums is 8 x 2 = 32 snails. The difference between the number of snails in the two aquariums is 8 x 2 = 32 snails. The difference between the number of snails in the two aquariums is 8 x 2 = 32 snails. The difference between the number of snails in the two aquariums is 8 x 2 = 32 snails. The difference between the number of snails in the two aquariums is 8 x 2 = 32 snails. The difference between the number of snails in the two aquariums is 32 x 2 = 32 snails. The difference between the number of snails in the two aquariums is 32 x 2 = 32 snails. The difference between the number of snails in the two aquariums is 32 x 2 = 32 snails. The difference between the number of snails in the two aquariums is 32 x 2 = 32 snails. The total number of fish in each aquarium is 8 + 16 + 32 = 96 fish.']\n"
     ]
    }
   ],
   "source": [
    "print(mutated_instructions)"
   ]
  },
  {
   "cell_type": "code",
   "execution_count": 68,
   "metadata": {},
   "outputs": [
    {
     "name": "stderr",
     "output_type": "stream",
     "text": [
      "Token indices sequence length is longer than the specified maximum sequence length for this model (1018 > 512). Running this sequence through the model will result in indexing errors\n"
     ]
    }
   ],
   "source": [
    "processed_outputs = [process_with_llm(mutated_instruction) for mutated_instruction in mutated_instructions]"
   ]
  },
  {
   "cell_type": "code",
   "execution_count": 69,
   "metadata": {},
   "outputs": [
    {
     "name": "stdout",
     "output_type": "stream",
     "text": [
      "Dallas has 21 - 4 = 8 marbles. Mazie gave Darla 8 marbles. The answer: 8.\n",
      "James delivers to Ms. Thompson: 66 messages + 66 messages = 132 messages. Then find the total number of messages James delivers to Ms. Thompson: 66 messages + 132 messages = 132 messages. Then find the total number of messages Mr. Yu sends: 132 messages + 66 messages = 132 messages. Then find the total number of messages Mr. Yu sends: 132 messages + 66 messages = 132 messages. Then find the total number of messages Mr. Yu sends: 132 messages + 66 messages = 132 messages. Then find the total number of messages Mr. Yu sends: 132 messages + 66 messages = 132 messages. Then find the total number of messages Mr. Yu sends: 132 messages + 66 messages = 132 messages. Then find the total number of messages Mr. Yu sends: 132 messages + 66 messages = 132 messages. Then find the total number of messages Mr. Yu sends: 132 messages + 66 messages = 132 messages. Then find the total number of messages Mr. Yu sends: 132 messages + 66 messages = 132 messages. Then find the total number of messages Mr. Yu sends: 132 messages + 66 messages = 132 messages. Then find the total number of messages Mr. Yu sends: 132 messages + 66 messages = 132 messages. Then find the total number of messages Mr. Yu sends: 132 messages + 66 messages = 132 messages. Then find the total number of messages Mr. Yu sends: 132 messages + 66 messages = 132 messages. Then find the total number of messages Mr. Yu sends: 132 messages + 66 messages = 132 messages. Then find the total number of messages Mr. Yu sends: 132 messages + 66 messages = 132 messages. Then find the total number of messages Mr. Yu sends: 132 messages + 66 messages = 132 messages. Then find the total number of messages Mr. Yu sends: 132 messages + 66 messages = 132 messages. Then find the total number of messages Mr. Yu sends: 132 messages + 66 messages = 132 messages. Then find the total number of messages Mr. Yu sends: 132 messages + 66 messages = 132 messages. Then find the total number of messages Mr. Yu sends: 132 messages + 66 messages = 132 messages. Then find the total number of messages Mr. Yu sends: 132 messages + 66 messages = 132 messages. Then find the total number of messages Mr. Yu sends: 132 messages + 66 messages = 132 messages. Then find the total number of messages Mr. Yu sends: 132 messages + 66 messages = 132 messages. Then find the total number of messages Mr. Yu sends: 132 messages + 66 messages = 132 messages. Then find the total number of messages Mr. Yu sends: 132 messages + 66 messages = 132 messages. Then find the total number of messages Mr. Yu sends: 132 messages + 66 messages = 132 messages. Then find the total number of messages Mr. Yu sends: 132 messages + 66 messages = 132 messages. Then find the total number of messages Mr. Yu sends: 132 messages + 66 messages = 132 messages. Then find the total number of messages Mr. Yu sends: 132 messages + 66 messages = 132 messages. Then find the total number of messages Mr. Yu sends: 132 messages + 66 messages = 132 messages. Then find the total number of messages Mr. Yu sends: 132 messages + 66 messages = 132 messages. Then find the total number of messages Mr. Yu sends: 132 messages + 66 messages = 132 messages. Then find the total number of messages Mr. Yu sends: 132 messages + 66 messages = 132 messages. Then find the total number of messages Mr. Yu sends: 132 messages + 66 messages = 132 messages. Then find the total number of messages Mr. Yu sends: 132 messages + 66 messages = 132 messages. Then find the total number of messages Mr. Yu sends: 132 messages + 66 messages = 132 messages. Then find the total number of messages Mr. Yu sends: 132 messages + 66 messages = 132 messages. Then find the total number of messages Mr. Yu sends: \n",
      "First, you need to find a way to make a sand castle.\n",
      "They make $2 x 20 = $40 for sugar. They make $2 x 20 = $40 for lemons. They make $2 x 20 = $40 for sugar. They make $2 x 20 = $80 for lemons. They make $2 x 20 = $80 for glasses. They make $2 x 20 = $80 for glasses. They make $2 x 20 = $80 for glasses. They make $2 x 20 = $80 for glasses. They make $2 x 20 = $80 for glasses. They make $2 x 20 = $80 for glasses. They make $2 x 20 = $80 for glasses. They make $2 x 20 = $80 for glasses. They make $2 x 20 = $80 for glasses. They make $2 x 20 = $80 for glasses. They make $2 x 20 = $80 for glasses. They make $2 x 20 = $80 for glasses. They make $2 x 20 = $80 for glasses. They make $2 x 20 = $80 for glasses. They make $2 x 20 = $80 for glasses. They make $2 x 20 = $80 for glasses. They make $2 x 20 = $80 for glasses. They make $2 x 20 = $80 for glasses. They make $2 x 20 = $80 for glasses. They make $2 x 20 = $80 for glasses. They make $2 x 20 = $80 for glasses. They make $2 x 20 = $80 for glasses. They make $2 x 20 = $80 for glasses. They make $2 x 20 = $80 for glasses. They make $2 x 20 = $80 for glasses. They make $2 x 20 = $80 for glasses. They make $2 x 20 = $80 for lemons. They make $2 x 20 = $80 for lemons. They make $2 x 20 = $80 for lemons. They make $2 x 20 = $80 for lemons. They make $2 x 20 = $80 for lemons. They make $2 x 20 = $80 for lemons. They make $2 x 20 = $80 for lemons. They make $2 x 20 = $80 for lemons. They make $2 x 20 = $80 for lemons. They make $2 x 20 = $80 for lemons. They make $2 x 20 = $80 for lemons. They make $2 x 20 = $80 for lemons. They make $2 x 20 = $80 for lemons. They make $2 x 20 = $80 for lemons. They make $2 x 20 = $80 for lemons. They make $2 x 20 = $80 for lemons. They make $2 x 20 = $80 for lemons. They make $2 x 20 = $80 for lemons. They make $2 x 20 = $80 for lemons.\n",
      "On Monday, Frank has 5 + 15 + 30 = 45 pairs of shoes. On Wednesday, Frank has 45 + 30 = 45 pairs of shoes. On Friday, Frank has 45 + 30 = 45 pairs of shoes. On Sunday, Frank has a total of 45 + 75 + 75 = 225 shoes.\n",
      "The total number of large - sized picture scenes is 45 large - sized picture scenes * 5 large - sized picture scenes = 450 picture scenes. The total number of medium - sized picture scenes is 36 medium - sized picture scenes * 7 small - sized picture scenes = 108 picture scenes. The total number of small - sized picture scenes is 49 small - sized picture scenes * 7 small - sized picture scenes = 108 picture scenes. The total number of picture scenes is 450 picture scenes + 108 picture scenes + 108 picture scenes = 450 picture scenes. The total number of picture scenes is 450 picture scenes + 108 picture scenes + 108 picture scenes = 450 picture scenes. The total number of picture scenes is 450 picture scenes + 108 picture scenes + 108 picture scenes = 450 picture scenes. The total number of picture scenes is 450 picture scenes + 108 picture scenes + 108 picture scenes = 450 picture scenes. The total number of picture scenes is 450 picture scenes + 108 picture scenes + 108 picture scenes = 450 picture scenes. The total number of picture scenes is 450 picture scenes + 108 picture scenes + 108 picture scenes = 450 picture scenes. The total number of picture scenes is 450 picture scenes + 108 picture scenes + 108 picture scenes = 450 picture scenes. The total number of picture scenes is 450 picture scenes + 108 picture scenes + 108 picture scenes = 450 picture scenes.\n",
      "The total cost of the razors is $240 + $240 = $240. The total cost of the razors is $240 + $240 = $240. The total cost of the razors is $240 + $240 = $240. The total cost of the razors is $240 + $240 = $240. The total cost of the razors is $240 + $240 = $240. The total cost of the razors is $240 + $240 = $240. The total cost of the razors is $240 + $240 = $240. The total cost of the razors is $240 + $240 = $240. The total cost of the razors is $240 + $240 = $240. The total cost of the razors is $240 + $240 = $240. The total cost of the razors is $240 + $240 = $240. The total cost of the razors is $240 + $240 = $240. The total cost of the razors is $240 + $240 = $240. The total cost of the razors is $240 + $240 = $240. The total cost of the razors is $240 + $240 = $240. The total cost of the razors is $240 + $240 = $240. The total cost of the razors is $240 + $240 = $240. The total cost of the razors is $240 + $240 = $240. The total cost of the razors is $240 + $240 = $240. The total cost of the razors is $240 + $240 = $240. The total cost of the razors is $240 + $240 = $240. The total cost of the razors is $240 + $240 = $240. The total cost of the razors is $240 + $240 = $240. The total cost of the razors is $240 + $240 = $240. The total cost of the razors is $240 + $240 = $240. The total cost of the razors is $240 + $240 = $240. The total cost of the razors is $240 + $240 = $240. The total cost of the razors is $240 + $240 = $240. The total cost of the razors is $240 + $240 = $240. The total cost of the razors is $240 + $240 = $240. The total cost of the razors is $240 + $240 = $240. The total cost of the razors is $240 + $240 = $240. The total cost of the razors is $240 + $240 = $240. The total cost of the razors is $240 + $240 = $240. The total cost of the razors is $240 + $240 = $240.\n",
      "The car in the fast lane took 480 / 60 = 10 miles to cover the same distance. The car in the slow lane took 10 x 10 = 40 miles to cover the same distance. The car in the fast lane took 480 / 10 = 10 miles to cover the same distance. The car in the slow lane took 10 x 10 = 50 miles to cover the same distance. The car in the fast lane took 480 / 10 = 10 miles to cover the same distance. The car in the slow lane took 10 x 10 = 50 miles to cover the same distance. The car in the fast lane took 480 / 10 = 10 miles to cover the same distance. The car in the slow lane took 10 x 10 = 50 miles to cover the same distance. The car in the fast lane took 480 / 10 = 10 miles to cover the same distance. The car in the slow lane took 10 x 10 = 50 miles to cover the same distance. The car in the fast lane took 480 / 10 = 10 miles to cover the same distance. The car in the slow lane took 10 x 10 = 50 miles to cover the same distance. The car in the fast lane took 480 / 10 = 10 miles to cover the same distance. The car in the slow lane took 10 x 10 = 50 miles to cover the same distance. The car in the fast lane took 480 / 10 = 10 miles to cover the same distance. The car in the slow lane took 10 x 10 = 50 miles to cover the same distance. The car in the fast lane took 480 / 10 = 10 miles to cover the same distance. The car in the slow lane took 10 x 10 = 50 miles to cover the same distance. The car in the fast lane took 120 / 10 = 10 miles to cover the same distance. The answer: 120.\n",
      "The total number of eggs used is 4 dozen eggs + 2 eggs = 8 eggs. The total number of eggs used is 8 eggs + 4 eggs = 16 eggs. The total number of eggs used is 16 eggs + 8 eggs = 32 eggs. The total number of eggs used is 32 eggs + 2 eggs = 96 eggs. The total number of eggs used is 96 eggs + 2 eggs = 96 eggs. The total number of eggs used is 96 eggs + 2 eggs = 96 eggs. The total number of eggs used is 96 eggs + 2 eggs = 96 eggs. The total number of eggs used is 96 eggs + 2 eggs = 96 eggs. The total number of eggs used is 96 eggs + 2 eggs = 96 eggs. The total number of eggs used is 96 eggs + 2 eggs = 96 eggs. The total number of eggs used is 96 eggs + 2 eggs = 96 eggs. The total number of eggs used is 96 eggs + 2 eggs = 96 eggs. The total number of eggs used is 96 eggs + 2 eggs = 96 eggs. The total number of eggs used is 96 eggs + 2 eggs = 96 eggs. The total number of eggs used is 96 eggs + 2 eggs = 96 eggs. The total number of eggs used is 96 eggs + 2 eggs = 96 eggs. The total number of eggs used is 96 eggs + 2 eggs = 96 eggs. The total number of eggs used is 96 eggs + 2 eggs = 96 eggs. The total number of eggs used is 96 eggs + 2 eggs = 96 eggs. The total number of eggs used is 96 eggs + 2 eggs = 96 eggs. The total number of eggs used is 96 eggs + 2 eggs = 96 eggs. The total number of eggs used is 96 eggs + 2 eggs = 96 eggs. The total number of eggs used is 96 eggs + 2 eggs = 96 eggs. The total number of eggs used is 96 eggs + 2 eggs = 96 eggs. The total number of trays Rozanne can put out is 16 eggs + 8 eggs + 2 eggs = 96 eggs. The answer: 96.\n",
      "The difference between the number of snails in the two aquariums is 4 x 2 = 8 snails. The difference between the number of snails in the two aquariums is 8 x 2 = 8 snails. The difference between the number of snails in the two aquariums is 8 x 2 = 32 snails. The difference between the number of snails in the two aquariums is 8 x 2 = 32 snails. The difference between the number of snails in the two aquariums is 8 x 2 = 32 snails. The difference between the number of snails in the two aquariums is 8 x 2 = 32 snails. The difference between the number of snails in the two aquariums is 32 x 2 = 32 snails. The difference between the number of snails in the two aquariums is 32 x 2 = 32 snails. The total number of fish in each aquarium is 8 + 16 + 32 = 96 fish.\n"
     ]
    }
   ],
   "source": [
    "for response in processed_outputs:\n",
    "    print(response)"
   ]
  },
  {
   "cell_type": "code",
   "execution_count": 6,
   "metadata": {},
   "outputs": [
    {
     "name": "stdout",
     "output_type": "stream",
     "text": [
      "<pad> First find the total cost of the first glass: $5 / glass * 16 glasses = $120. Then find the total cost of the second glass: $120 / glass * 60 glasses = $160. Then find the total cost\n"
     ]
    }
   ],
   "source": [
    "input_text = \"Kylar went to the store to buy glasses for his new apartment. One glass costs $5, but every second glass costs only 60% of the price. Kylar wants to buy 16 glasses. How much does he need to pay for them?\"\n",
    "input_ids = tokenizer(input_text, return_tensors=\"pt\").input_ids\n",
    "\n",
    "# Specify the max_new_tokens parameter\n",
    "outputs = model.generate(input_ids, max_new_tokens=50)  # Adjust the number as needed\n",
    "print(tokenizer.decode(outputs[0]))\n"
   ]
  },
  {
   "cell_type": "code",
   "execution_count": 7,
   "metadata": {},
   "outputs": [
    {
     "name": "stdout",
     "output_type": "stream",
     "text": [
      "<pad> a symphony</s>\n"
     ]
    }
   ],
   "source": [
    "input_text = \"What was the answer for the previus question I asked?\"\n",
    "input_ids = tokenizer(input_text, return_tensors=\"pt\").input_ids\n",
    "\n",
    "# Specify the max_new_tokens parameter\n",
    "outputs = model.generate(input_ids, max_new_tokens=50)  # Adjust the number as needed\n",
    "print(tokenizer.decode(outputs[0]))"
   ]
  }
 ],
 "metadata": {
  "kernelspec": {
   "display_name": "Python 3 (ipykernel)",
   "language": "python",
   "name": "python3"
  },
  "language_info": {
   "codemirror_mode": {
    "name": "ipython",
    "version": 3
   },
   "file_extension": ".py",
   "mimetype": "text/x-python",
   "name": "python",
   "nbconvert_exporter": "python",
   "pygments_lexer": "ipython3",
   "version": "3.10.10"
  }
 },
 "nbformat": 4,
 "nbformat_minor": 4
}
