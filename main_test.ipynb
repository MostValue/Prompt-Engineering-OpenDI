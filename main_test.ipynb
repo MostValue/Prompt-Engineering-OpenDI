{
 "cells": [
  {
   "cell_type": "code",
   "execution_count": 19,
   "metadata": {
    "tags": []
   },
   "outputs": [],
   "source": [
    "# Libraries\n",
    "import pandas as pd\n",
    "import random\n",
    "import json\n",
    "from datasets import load_dataset\n",
    "import re\n",
    "import math\n"
   ]
  },
  {
   "cell_type": "code",
   "execution_count": 2,
   "metadata": {
    "tags": []
   },
   "outputs": [],
   "source": [
    "# Load model directly\n",
    "from transformers import AutoTokenizer, AutoModelForSeq2SeqLM\n",
    "\n",
    "tokenizer = AutoTokenizer.from_pretrained(\"google/flan-t5-base\")\n",
    "model = AutoModelForSeq2SeqLM.from_pretrained(\"google/flan-t5-base\")"
   ]
  },
  {
   "cell_type": "markdown",
   "metadata": {},
   "source": [
    "## Getting instructions"
   ]
  },
  {
   "cell_type": "code",
   "execution_count": 3,
   "metadata": {
    "tags": []
   },
   "outputs": [
    {
     "name": "stderr",
     "output_type": "stream",
     "text": [
      "Found cached dataset gsm8k (/Users/iv/.cache/huggingface/datasets/gsm8k/main/1.1.0/37bfb08b1d4fcbb01f06b03d9e1ef5f1fcbd4d3af3d08842c50d7305091285ba)\n"
     ]
    },
    {
     "data": {
      "application/vnd.jupyter.widget-view+json": {
       "model_id": "bc3dae91713a45e3851bd8249dbce0a3",
       "version_major": 2,
       "version_minor": 0
      },
      "text/plain": [
       "  0%|          | 0/2 [00:00<?, ?it/s]"
      ]
     },
     "metadata": {},
     "output_type": "display_data"
    },
    {
     "data": {
      "text/plain": [
       "{'question': 'Kylar went to the store to buy glasses for his new apartment. One glass costs $5, but every second glass costs only 60% of the price. Kylar wants to buy 16 glasses. How much does he need to pay for them?',\n",
       " 'answer': 'The discount price of one glass is 60/100 * 5 = $<<60/100*5=3>>3.\\nIf every second glass is cheaper, that means Kylar is going to buy 16 / 2 = <<16/2=8>>8 cheaper glasses.\\nSo for the cheaper glasses, Kylar is going to pay 8 * 3 = $<<8*3=24>>24.\\nAnd for the regular-priced glasses, Kylar will pay 8 * 5 = $<<8*5=40>>40.\\nSo in total Kylar needs to pay 24 + 40 = $<<24+40=64>>64 for the glasses he wants to buy.\\n#### 64'}"
      ]
     },
     "execution_count": 3,
     "metadata": {},
     "output_type": "execute_result"
    }
   ],
   "source": [
    "dataset = load_dataset(\"gsm8k\", \"main\")\n",
    "dataset[\"test\"][5]"
   ]
  },
  {
   "cell_type": "code",
   "execution_count": 4,
   "metadata": {
    "tags": []
   },
   "outputs": [],
   "source": [
    "def get_random_test_object(dataset):\n",
    "    if \"test\" in dataset and len(dataset[\"test\"]) > 0:\n",
    "        random_index = random.randint(0, len(dataset[\"test\"]) - 1)\n",
    "        test_object = dataset[\"test\"][random_index]\n",
    "        \n",
    "        # Assuming each object in the dataset has 'question' and 'answer' keys\n",
    "        question = test_object.get(\"question\", \"No question found\")\n",
    "        answer = test_object.get(\"answer\", \"No answer found\")\n",
    "        \n",
    "        return question, answer\n",
    "    else:\n",
    "        return None, None"
   ]
  },
  {
   "cell_type": "code",
   "execution_count": 5,
   "metadata": {
    "tags": []
   },
   "outputs": [],
   "source": [
    "def get_random_mutation(csv_file_path):\n",
    "    try:\n",
    "        df = pd.read_csv(csv_file_path, header=None, encoding='utf-8', delimiter='.') \n",
    "    except UnicodeDecodeError:\n",
    "        df = pd.read_csv(csv_file_path, header=None, encoding='ISO-8859-1', delimiter='.') \n",
    "\n",
    "    random_prompt = random.choice(df[1].tolist())\n",
    "    return random_prompt\n"
   ]
  },
  {
   "cell_type": "code",
   "execution_count": 6,
   "metadata": {
    "tags": []
   },
   "outputs": [],
   "source": [
    "def get_random_mutation_txt(txt_file_path):\n",
    "    with open(txt_file_path, 'r', encoding='utf-8') as file:\n",
    "        lines = file.readlines()\n",
    "\n",
    "    # Remove any leading/trailing whitespace and filter out empty lines\n",
    "    prompts = [line.strip() for line in lines if line.strip()]\n",
    "    \n",
    "    if prompts:\n",
    "        return random.choice(prompts)\n",
    "    else:\n",
    "        return \"No mutation prompts found.\""
   ]
  },
  {
   "cell_type": "code",
   "execution_count": 7,
   "metadata": {
    "tags": []
   },
   "outputs": [],
   "source": [
    "def generate_intructions(question, task_description, max_tokens=100):\n",
    "    formatted_input = f\"{task_description} {question}\"\n",
    "    input_ids = tokenizer(formatted_input, return_tensors=\"pt\").input_ids\n",
    "    outputs = model.generate(input_ids, max_new_tokens = max_tokens)\n",
    "    generated_text = tokenizer.decode(outputs[0], skip_special_tokens=True)\n",
    "\n",
    "    return generated_text"
   ]
  },
  {
   "cell_type": "code",
   "execution_count": 8,
   "metadata": {
    "tags": []
   },
   "outputs": [],
   "source": [
    "def process_with_llm(prompt):\n",
    "    input_ids = tokenizer.encode(prompt, return_tensors='pt')\n",
    "    output = model.generate(input_ids, max_length=1000)\n",
    "    response = tokenizer.decode(output[0], skip_special_tokens=True)\n",
    "\n",
    "    return response"
   ]
  },
  {
   "cell_type": "code",
   "execution_count": 9,
   "metadata": {
    "tags": []
   },
   "outputs": [],
   "source": [
    "# write the task description here:\n",
    "task_description = \"Generate an instruction on how to solve the problem, based on the given question \""
   ]
  },
  {
   "cell_type": "code",
   "execution_count": 10,
   "metadata": {
    "tags": []
   },
   "outputs": [],
   "source": [
    "task_description1 = \"Generate an instruction, or advice on how to solve a problem\""
   ]
  },
  {
   "cell_type": "markdown",
   "metadata": {
    "jp-MarkdownHeadingCollapsed": true,
    "tags": []
   },
   "source": [
    "#### Hide"
   ]
  },
  {
   "cell_type": "code",
   "execution_count": 13,
   "metadata": {
    "tags": []
   },
   "outputs": [],
   "source": [
    "# getting mutated prompts\n",
    "question, answer = get_random_test_object(dataset)"
   ]
  },
  {
   "cell_type": "code",
   "execution_count": 14,
   "metadata": {
    "collapsed": true,
    "jupyter": {
     "outputs_hidden": true
    },
    "tags": []
   },
   "outputs": [
    {
     "name": "stdout",
     "output_type": "stream",
     "text": [
      "Janeth borrowed $2000 and promised to return it with an additional 10% of the amount. If she is going to pay $165 a month for 12 months, how much will be Janeth's remaining balance by then?\n"
     ]
    }
   ],
   "source": [
    "print(question)"
   ]
  },
  {
   "cell_type": "code",
   "execution_count": 15,
   "metadata": {
    "tags": []
   },
   "outputs": [
    {
     "name": "stdout",
     "output_type": "stream",
     "text": [
      "Janeth will pay an additional $2000x 10/100 =$<<2000*10/100=200>>200.\n",
      "So she is going to pay off a total of $2000 + $200 = $<<2000+200=2200>>2200.\n",
      "Janeth will be able to pay off $165 x 12 = $<<165*12=1980>>1980 in 12 months.\n",
      "Hence, her remaining balance by then will be $2200 - $1980 = $<<2200-1980=220>>220.\n",
      "#### 220\n"
     ]
    }
   ],
   "source": [
    "print(answer)"
   ]
  },
  {
   "cell_type": "markdown",
   "metadata": {
    "tags": []
   },
   "source": [
    "## Instruction Generation"
   ]
  },
  {
   "cell_type": "code",
   "execution_count": 45,
   "metadata": {
    "jupyter": {
     "source_hidden": true
    },
    "tags": []
   },
   "outputs": [],
   "source": [
    "num_instructions = 10\n",
    "generated_instructions = []\n",
    "\n",
    "for _ in range(num_instructions):\n",
    "    question, _ = get_random_test_object(dataset)  # Fetch a random question from your dataset\n",
    "    instruction = generate_intructions(question, task_description)\n",
    "    generated_instructions.append(instruction)"
   ]
  },
  {
   "cell_type": "code",
   "execution_count": 57,
   "metadata": {
    "jupyter": {
     "source_hidden": true
    },
    "tags": []
   },
   "outputs": [
    {
     "name": "stdout",
     "output_type": "stream",
     "text": [
      "a) a b) a c) d) a e) a f) a g) a h) a i) a j) a k) a j) a k) a j) a k) a j) a k) a j) a k) a j) a k\n"
     ]
    }
   ],
   "source": [
    "print(generated_instructions[5])"
   ]
  },
  {
   "cell_type": "markdown",
   "metadata": {},
   "source": [
    "#### Test Version 2"
   ]
  },
  {
   "cell_type": "code",
   "execution_count": 11,
   "metadata": {
    "tags": []
   },
   "outputs": [],
   "source": [
    "# Alternative, that does not include question\n",
    "\n",
    "\n",
    "def generate_instructions1(num_instructions, max_tokens=1000, temperature=1.5):\n",
    "    formatted_input = f\"Generate a list of {num_instructions} instructions on how to solve a math problem\"\n",
    "    input_ids = tokenizer(formatted_input, return_tensors=\"pt\").input_ids\n",
    "    outputs = model.generate(input_ids, \n",
    "                             max_new_tokens=int(max_tokens),\n",
    "                             temperature=temperature)\n",
    "    generated_text = tokenizer.decode(outputs[0], skip_special_tokens=True)\n",
    "\n",
    "    return generated_text"
   ]
  },
  {
   "cell_type": "code",
   "execution_count": 12,
   "metadata": {
    "tags": []
   },
   "outputs": [
    {
     "name": "stdout",
     "output_type": "stream",
     "text": [
      "Using a calculator, find the number of squares in the equation.\n"
     ]
    }
   ],
   "source": [
    "num_instructions = 10\n",
    "generated_instructions = []\n",
    "\n",
    "print(generate_instructions1(num_instructions, temperature=500))"
   ]
  },
  {
   "cell_type": "code",
   "execution_count": 66,
   "metadata": {
    "tags": []
   },
   "outputs": [
    {
     "name": "stdout",
     "output_type": "stream",
     "text": [
      "a) To solve a problem, you need to know how to solve it. b) To solve a problem, you need to know how to solve it. c) To solve a problem, you need to know how to solve it. d) To solve a problem, you need to know how to solve it.\n"
     ]
    }
   ],
   "source": [
    "print(generated_instructions[3])"
   ]
  },
  {
   "cell_type": "code",
   "execution_count": 13,
   "metadata": {
    "tags": []
   },
   "outputs": [
    {
     "ename": "ParserError",
     "evalue": "Error tokenizing data. C error: Expected 1 fields in line 11, saw 2\n",
     "output_type": "error",
     "traceback": [
      "\u001b[0;31m---------------------------------------------------------------------------\u001b[0m",
      "\u001b[0;31mParserError\u001b[0m                               Traceback (most recent call last)",
      "Cell \u001b[0;32mIn[13], line 1\u001b[0m\n\u001b[0;32m----> 1\u001b[0m mutation_prompt \u001b[38;5;241m=\u001b[39m get_random_mutation(\u001b[38;5;124m\"\u001b[39m\u001b[38;5;124m./Prompt-Engineering-OpenDI/mutation_prompts.csv\u001b[39m\u001b[38;5;124m\"\u001b[39m)\n",
      "Cell \u001b[0;32mIn[5], line 3\u001b[0m, in \u001b[0;36mget_random_mutation\u001b[0;34m(csv_file_path)\u001b[0m\n\u001b[1;32m      1\u001b[0m \u001b[38;5;28;01mdef\u001b[39;00m \u001b[38;5;21mget_random_mutation\u001b[39m(csv_file_path):\n\u001b[1;32m      2\u001b[0m     \u001b[38;5;28;01mtry\u001b[39;00m:\n\u001b[0;32m----> 3\u001b[0m         df \u001b[38;5;241m=\u001b[39m pd\u001b[38;5;241m.\u001b[39mread_csv(csv_file_path, header\u001b[38;5;241m=\u001b[39m\u001b[38;5;28;01mNone\u001b[39;00m, encoding\u001b[38;5;241m=\u001b[39m\u001b[38;5;124m'\u001b[39m\u001b[38;5;124mutf-8\u001b[39m\u001b[38;5;124m'\u001b[39m, delimiter\u001b[38;5;241m=\u001b[39m\u001b[38;5;124m'\u001b[39m\u001b[38;5;124m.\u001b[39m\u001b[38;5;124m'\u001b[39m) \n\u001b[1;32m      4\u001b[0m     \u001b[38;5;28;01mexcept\u001b[39;00m \u001b[38;5;167;01mUnicodeDecodeError\u001b[39;00m:\n\u001b[1;32m      5\u001b[0m         df \u001b[38;5;241m=\u001b[39m pd\u001b[38;5;241m.\u001b[39mread_csv(csv_file_path, header\u001b[38;5;241m=\u001b[39m\u001b[38;5;28;01mNone\u001b[39;00m, encoding\u001b[38;5;241m=\u001b[39m\u001b[38;5;124m'\u001b[39m\u001b[38;5;124mISO-8859-1\u001b[39m\u001b[38;5;124m'\u001b[39m, delimiter\u001b[38;5;241m=\u001b[39m\u001b[38;5;124m'\u001b[39m\u001b[38;5;124m.\u001b[39m\u001b[38;5;124m'\u001b[39m) \n",
      "File \u001b[0;32m~/anaconda3/lib/python3.11/site-packages/pandas/util/_decorators.py:211\u001b[0m, in \u001b[0;36mdeprecate_kwarg.<locals>._deprecate_kwarg.<locals>.wrapper\u001b[0;34m(*args, **kwargs)\u001b[0m\n\u001b[1;32m    209\u001b[0m     \u001b[38;5;28;01melse\u001b[39;00m:\n\u001b[1;32m    210\u001b[0m         kwargs[new_arg_name] \u001b[38;5;241m=\u001b[39m new_arg_value\n\u001b[0;32m--> 211\u001b[0m \u001b[38;5;28;01mreturn\u001b[39;00m func(\u001b[38;5;241m*\u001b[39margs, \u001b[38;5;241m*\u001b[39m\u001b[38;5;241m*\u001b[39mkwargs)\n",
      "File \u001b[0;32m~/anaconda3/lib/python3.11/site-packages/pandas/util/_decorators.py:331\u001b[0m, in \u001b[0;36mdeprecate_nonkeyword_arguments.<locals>.decorate.<locals>.wrapper\u001b[0;34m(*args, **kwargs)\u001b[0m\n\u001b[1;32m    325\u001b[0m \u001b[38;5;28;01mif\u001b[39;00m \u001b[38;5;28mlen\u001b[39m(args) \u001b[38;5;241m>\u001b[39m num_allow_args:\n\u001b[1;32m    326\u001b[0m     warnings\u001b[38;5;241m.\u001b[39mwarn(\n\u001b[1;32m    327\u001b[0m         msg\u001b[38;5;241m.\u001b[39mformat(arguments\u001b[38;5;241m=\u001b[39m_format_argument_list(allow_args)),\n\u001b[1;32m    328\u001b[0m         \u001b[38;5;167;01mFutureWarning\u001b[39;00m,\n\u001b[1;32m    329\u001b[0m         stacklevel\u001b[38;5;241m=\u001b[39mfind_stack_level(),\n\u001b[1;32m    330\u001b[0m     )\n\u001b[0;32m--> 331\u001b[0m \u001b[38;5;28;01mreturn\u001b[39;00m func(\u001b[38;5;241m*\u001b[39margs, \u001b[38;5;241m*\u001b[39m\u001b[38;5;241m*\u001b[39mkwargs)\n",
      "File \u001b[0;32m~/anaconda3/lib/python3.11/site-packages/pandas/io/parsers/readers.py:950\u001b[0m, in \u001b[0;36mread_csv\u001b[0;34m(filepath_or_buffer, sep, delimiter, header, names, index_col, usecols, squeeze, prefix, mangle_dupe_cols, dtype, engine, converters, true_values, false_values, skipinitialspace, skiprows, skipfooter, nrows, na_values, keep_default_na, na_filter, verbose, skip_blank_lines, parse_dates, infer_datetime_format, keep_date_col, date_parser, dayfirst, cache_dates, iterator, chunksize, compression, thousands, decimal, lineterminator, quotechar, quoting, doublequote, escapechar, comment, encoding, encoding_errors, dialect, error_bad_lines, warn_bad_lines, on_bad_lines, delim_whitespace, low_memory, memory_map, float_precision, storage_options)\u001b[0m\n\u001b[1;32m    935\u001b[0m kwds_defaults \u001b[38;5;241m=\u001b[39m _refine_defaults_read(\n\u001b[1;32m    936\u001b[0m     dialect,\n\u001b[1;32m    937\u001b[0m     delimiter,\n\u001b[0;32m   (...)\u001b[0m\n\u001b[1;32m    946\u001b[0m     defaults\u001b[38;5;241m=\u001b[39m{\u001b[38;5;124m\"\u001b[39m\u001b[38;5;124mdelimiter\u001b[39m\u001b[38;5;124m\"\u001b[39m: \u001b[38;5;124m\"\u001b[39m\u001b[38;5;124m,\u001b[39m\u001b[38;5;124m\"\u001b[39m},\n\u001b[1;32m    947\u001b[0m )\n\u001b[1;32m    948\u001b[0m kwds\u001b[38;5;241m.\u001b[39mupdate(kwds_defaults)\n\u001b[0;32m--> 950\u001b[0m \u001b[38;5;28;01mreturn\u001b[39;00m _read(filepath_or_buffer, kwds)\n",
      "File \u001b[0;32m~/anaconda3/lib/python3.11/site-packages/pandas/io/parsers/readers.py:611\u001b[0m, in \u001b[0;36m_read\u001b[0;34m(filepath_or_buffer, kwds)\u001b[0m\n\u001b[1;32m    608\u001b[0m     \u001b[38;5;28;01mreturn\u001b[39;00m parser\n\u001b[1;32m    610\u001b[0m \u001b[38;5;28;01mwith\u001b[39;00m parser:\n\u001b[0;32m--> 611\u001b[0m     \u001b[38;5;28;01mreturn\u001b[39;00m parser\u001b[38;5;241m.\u001b[39mread(nrows)\n",
      "File \u001b[0;32m~/anaconda3/lib/python3.11/site-packages/pandas/io/parsers/readers.py:1778\u001b[0m, in \u001b[0;36mTextFileReader.read\u001b[0;34m(self, nrows)\u001b[0m\n\u001b[1;32m   1771\u001b[0m nrows \u001b[38;5;241m=\u001b[39m validate_integer(\u001b[38;5;124m\"\u001b[39m\u001b[38;5;124mnrows\u001b[39m\u001b[38;5;124m\"\u001b[39m, nrows)\n\u001b[1;32m   1772\u001b[0m \u001b[38;5;28;01mtry\u001b[39;00m:\n\u001b[1;32m   1773\u001b[0m     \u001b[38;5;66;03m# error: \"ParserBase\" has no attribute \"read\"\u001b[39;00m\n\u001b[1;32m   1774\u001b[0m     (\n\u001b[1;32m   1775\u001b[0m         index,\n\u001b[1;32m   1776\u001b[0m         columns,\n\u001b[1;32m   1777\u001b[0m         col_dict,\n\u001b[0;32m-> 1778\u001b[0m     ) \u001b[38;5;241m=\u001b[39m \u001b[38;5;28mself\u001b[39m\u001b[38;5;241m.\u001b[39m_engine\u001b[38;5;241m.\u001b[39mread(  \u001b[38;5;66;03m# type: ignore[attr-defined]\u001b[39;00m\n\u001b[1;32m   1779\u001b[0m         nrows\n\u001b[1;32m   1780\u001b[0m     )\n\u001b[1;32m   1781\u001b[0m \u001b[38;5;28;01mexcept\u001b[39;00m \u001b[38;5;167;01mException\u001b[39;00m:\n\u001b[1;32m   1782\u001b[0m     \u001b[38;5;28mself\u001b[39m\u001b[38;5;241m.\u001b[39mclose()\n",
      "File \u001b[0;32m~/anaconda3/lib/python3.11/site-packages/pandas/io/parsers/c_parser_wrapper.py:230\u001b[0m, in \u001b[0;36mCParserWrapper.read\u001b[0;34m(self, nrows)\u001b[0m\n\u001b[1;32m    228\u001b[0m \u001b[38;5;28;01mtry\u001b[39;00m:\n\u001b[1;32m    229\u001b[0m     \u001b[38;5;28;01mif\u001b[39;00m \u001b[38;5;28mself\u001b[39m\u001b[38;5;241m.\u001b[39mlow_memory:\n\u001b[0;32m--> 230\u001b[0m         chunks \u001b[38;5;241m=\u001b[39m \u001b[38;5;28mself\u001b[39m\u001b[38;5;241m.\u001b[39m_reader\u001b[38;5;241m.\u001b[39mread_low_memory(nrows)\n\u001b[1;32m    231\u001b[0m         \u001b[38;5;66;03m# destructive to chunks\u001b[39;00m\n\u001b[1;32m    232\u001b[0m         data \u001b[38;5;241m=\u001b[39m _concatenate_chunks(chunks)\n",
      "File \u001b[0;32m~/anaconda3/lib/python3.11/site-packages/pandas/_libs/parsers.pyx:808\u001b[0m, in \u001b[0;36mpandas._libs.parsers.TextReader.read_low_memory\u001b[0;34m()\u001b[0m\n",
      "File \u001b[0;32m~/anaconda3/lib/python3.11/site-packages/pandas/_libs/parsers.pyx:866\u001b[0m, in \u001b[0;36mpandas._libs.parsers.TextReader._read_rows\u001b[0;34m()\u001b[0m\n",
      "File \u001b[0;32m~/anaconda3/lib/python3.11/site-packages/pandas/_libs/parsers.pyx:852\u001b[0m, in \u001b[0;36mpandas._libs.parsers.TextReader._tokenize_rows\u001b[0;34m()\u001b[0m\n",
      "File \u001b[0;32m~/anaconda3/lib/python3.11/site-packages/pandas/_libs/parsers.pyx:1973\u001b[0m, in \u001b[0;36mpandas._libs.parsers.raise_parser_error\u001b[0;34m()\u001b[0m\n",
      "\u001b[0;31mParserError\u001b[0m: Error tokenizing data. C error: Expected 1 fields in line 11, saw 2\n"
     ]
    }
   ],
   "source": [
    "mutation_prompt = get_random_mutation(\"./Prompt-Engineering-OpenDI/mutation_prompts.csv\")"
   ]
  },
  {
   "cell_type": "code",
   "execution_count": 14,
   "metadata": {
    "tags": []
   },
   "outputs": [
    {
     "name": "stdout",
     "output_type": "stream",
     "text": [
      "How would someone with derailment follow this instruction?\n"
     ]
    }
   ],
   "source": [
    "mutation_prompt = get_random_mutation_txt(\"./Prompt-Engineering-OpenDI/mutation_prompts.txt\")\n",
    "print(mutation_prompt)"
   ]
  },
  {
   "cell_type": "code",
   "execution_count": 15,
   "metadata": {
    "tags": []
   },
   "outputs": [],
   "source": [
    "def apply_mutation(instruction, mutation_prompt):\n",
    "    # Example mutation - this can be customized based on your mutation logic\n",
    "    return f\"{mutation_prompt} {instruction}\"\n",
    "\n",
    "mutated_instructions = [apply_mutation(instruction, mutation_prompt) for instruction in generated_instructions]\n"
   ]
  },
  {
   "cell_type": "code",
   "execution_count": 66,
   "metadata": {
    "collapsed": true,
    "jupyter": {
     "outputs_hidden": true
    },
    "tags": []
   },
   "outputs": [
    {
     "name": "stdout",
     "output_type": "stream",
     "text": [
      "['Modify the following instruction creatively, giving some advice on how to solve it: If Dallas has 21 marbles, then Darla has 21 - 4 = 10 marbles. Mazie gave Darla 10 marbles. The answer: 10.', 'Modify the following instruction creatively, giving some advice on how to solve it: First find the total number of messages Mr. Yu sends: 66 messages / 3 = 66 messages. Then find the total number of messages James delivers to Ms. Thompson: 66 messages + 66 messages = 132 messages. Then find the total number of messages Mr. Yu sends: 132 messages / 3 = 66 messages. Then find the total number of messages James delivers to Ms. Thompson: 66 messages + 132 messages = 132 messages. Then find the total number of messages Mr. Yu sends: 132 messages + 66 messages = 132 messages. Then find the total number of messages Mr. Yu sends: 132 messages + 66 messages = 132 messages. Then find the total number of messages Mr. Yu sends: 132 messages + 66 messages = 132 messages. Then find the total number of messages Mr. Yu sends: 132 messages + 66 messages = 132 messages. Then find the total number of messages Mr. Yu sends: 132 messages + 66 messages = 132 messages. Then find the total number of messages Mr. Yu sends: 132 messages + 66 messages = 132 messages. Then find the total number of messages Mr. Yu sends: 132 messages + 66 messages = 132 messages. Then find the total number of messages Mr. Yu sends: 132 messages + 66 messages = 132 messages. Then find the total number of messages Mr. Yu sends: 132 messages + 66 messages = 132 messages. Then find the total number of messages Mr. Yu sends: 132 messages + 66 messages = 132 messages. Then find the total number of messages Mr. Yu sends: 132 messages + 66 messages = 132 messages. Then find the total number of messages Mr. Yu sends: 132 messages + 66 messages = 132 messages. Then find the total number of messages Mr. Yu sends: 132 messages + 66 messages = 132 messages. Then find the total number of messages Mr. Yu sends: 132 messages + 66 messages = 132 messages. Then find the total number of messages Mr. Yu sends: 132 messages + 66 messages = 132 messages. Then find the total number of messages Mr. Yu sends: 132 messages + 66 messages = 132 messages. Then find the total number of messages Mr. Yu sends: 132 messages + 66 messages = 132 messages. Then find the total number of messages Mr. Yu sends: 132 messages + 66 messages = 132 messages. Then find the total number of messages Mr. Yu sends: 132 messages + 66 messages = 132 messages. Then find the total number of messages Mr. Yu sends: 132 messages + 66 messages = 132 messages. Then find the total number of messages Mr. Yu sends: 132 messages + 66 messages = 132 messages. Then find the total number of messages Mr. Yu sends: 132 messages + 66 messages = 132 messages. Then find the total number of messages Mr. Yu sends: 132 messages + 66 messages = 132 messages. Then find the total number of messages Mr. Yu sends: 132 messages + 66 messages = 132 messages. Then find the total number of messages Mr. Yu sends: 132 messages + 66 messages = 132 messages. Then find the total number of messages Mr. Yu sends: 132 messages + 66 messages = 132 messages. Then find the total number of messages Mr. Yu sends: 132 messages + 66 messages = 132 messages. Then find the total number of messages Mr. Yu sends: 132 messages + 66 messages = 132 messages. Then find the total number of messages Mr. Yu sends: 132 messages + 66 messages = 132 messages. Then find the total number of messages Mr. Yu sends: 132 messages + 66 messages = 132 messages. Then find the total number of messages Mr. Yu sends: 132 messages + 66 messages = 132 messages. Then find the total number of messages Mr. Yu sends: 132 messages + 66 messages = 132 messages. Then find the total number of messages Mr. Yu sends: 132 messages + 66 messages = 132 messages. Then find the total number of messages Mr. Yu sends: 132 messages + 66 messages = 132 messages. Then find the total number of messages Mr. Yu', 'Modify the following instruction creatively, giving some advice on how to solve it: First', 'Modify the following instruction creatively, giving some advice on how to solve it: They make $3 x 20 = $80 for lemons. They make $2 x 20 = $40 for sugar. They make $2 x 20 = $40 for lemons. They make $3 x 40 = $180 for lemons. They make $2 x 20 = $80 for sugar. They make $2 x 20 = $80 for lemons. They make $2 x 20 = $80 for glasses. They make $2 x 20 = $80 for glasses. They make $2 x 20 = $80 for lemons. They make $2 x 20 = $80 for glasses. They make $2 x 20 = $80 for glasses. They make $2 x 20 = $80 for glasses. They make $2 x 20 = $80 for glasses. They make $2 x 20 = $80 for glasses. They make $2 x 20 = $80 for glasses. They make $2 x 20 = $80 for glasses. They make $2 x 20 = $80 for glasses. They make $2 x 20 = $80 for glasses. They make $2 x 20 = $80 for glasses. They make $2 x 20 = $80 for glasses. They make $2 x 20 = $80 for glasses. They make $2 x 20 = $80 for glasses. They make $2 x 20 = $80 for glasses. They make $2 x 20 = $80 for glasses. They make $2 x 20 = $80 for glasses. They make $2 x 20 = $80 for glasses. They make $2 x 20 = $80 for glasses. They make $2 x 20 = $80 for glasses. They make $2 x 20 = $80 for glasses. They make $2 x 20 = $80 for glasses. They make $2 x 20 = $80 for glasses. They make $2 x 20 = $80 for glasses. They make $2 x 20 = $80 for glasses. They make $2 x 20 = $80 for glasses. They make $2 x 20 = $80 for glasses. They make $2 x 20 = $80 for glasses. They make $2 x 20 = $80 for glasses. They make $2 x 20 = $80 for glasses. They make $2 x 20 = $80 for glasses. They make $2 x 20 = $80 for glasses. They make $2 x 20 = $80 for glasses. They make $2 x 20 = $80 for glasses. They make $2 x 20 = $80 for glasses. They make $2 x 20 = $80 for glasses. They make $2 x 20 = $80 for glasses. They make $2 x 20 = $80 for glasses. They make $2 x 20 = $80 for glasses. They make $2 x 20 = $80 for glasses. They make $2 x 20 = $80 for glasses. They make $2 x 20 = $80 for glasses. They make $2 x 20 = $80 for glasses. They make $2 x 20 = $80 for glasses. They make $2 x 20 = $80 for glasses. They make $2 x 20 = $80 for glasses. They make $2 x 20 = $80 for glasses. They make $2 x 20 = $80 for lemons. They make $2 x 20 = $80 for lemons. They make $2 x 20 = $80 for lemons. They make $2 x 20 = $80 for glasses. They make $2 x 20 = $80 for lemons. They make $2 x 20 = $80 for glasses. They make $2 x 20 = $80 for lemons. They make $2 x 20 = $80 for lemons. They make $2 x 20 = $80 for lemons. They make $2 x 20 = $80 for lemons. They make $2 x 20 = $80 for lemons. They make $2 x 20 = $80 for lemons. They make $2 x 20 = $80 for lemons. They make $2 x 20 = $80 for lemons. They make $2 x 20 = $80 for lemons. They make $2 x 20 = $80 for lemons. They make $2 x 20 = $80 for lemons. They make $2 x 20 = $80 for lemons. They make $2 x 20 = $80 for lemons. They make $2 x 20 = $80 for lemons. They make $2 x 20 = $80 for lemons. They make $2 x 20 = $80 for lemons. They make $2 x 20 = $80 for lemons. They make $2 x 20 = $80 for lemons. They make $2 x 20 = $80 for lemons. They make $2 x 20 = $80 for lemons. They', 'Modify the following instruction creatively, giving some advice on how to solve it: On Monday, Frank has 5 + 15 + 30 = 45 pairs of shoes. On Wednesday, Frank has 45 + 30 = 75 pairs of shoes. On Friday, Frank has 45 + 30 = 75 pairs of shoes. On Sunday, Frank has a total of 45 + 75 + 75 = 225 shoes.', 'Modify the following instruction creatively, giving some advice on how to solve it: First find the total number of large - sized picture scenes: 45 large - sized picture scenes * 5 large - sized picture scenes = 450 picture scenes. Then find the total number of medium - sized picture scenes: 36 medium - sized picture scenes * 7 small - sized picture scenes = 108 picture scenes. Then find the total number of small - sized picture scenes: 49 small - sized picture scenes * 7 small - sized picture scenes = 108 picture scenes. Then add the number of large - sized picture scenes to find the total number of picture scenes: 450 picture scenes + 108 picture scenes + 108 picture scenes = 450 picture scenes. Then divide the total number of picture scenes by the number of large - sized picture scenes to find the total number of picture scenes: 450 picture scenes + 108 picture scenes + 108 picture scenes = 450 picture scenes. Then divide the total number of picture scenes by the number of small - sized picture scenes to find the total number of picture scenes: 450 picture scenes + 108 picture scenes + 108 picture scenes = 450 picture scenes. Then divide the total number of picture scenes by the number of small - sized picture scenes to find the total number of picture scenes: 450 picture scenes + 108 picture scenes + 108 picture scenes = 450 picture scenes. Then divide the total number of picture scenes by the number of small - sized picture scenes to find the total number of picture scenes: 450 picture scenes + 108 picture scenes + 108 picture scenes = 450 picture scenes. Then divide the total number of picture scenes by the number of small - sized picture scenes to find the total number of picture scenes: 450 picture scenes + 108 picture scenes + 108 picture scenes = 450 picture scenes. Then divide the total number of picture scenes by the number of small - sized picture scenes to find the total number of picture scenes: 450 picture scenes + 108 picture scenes + 108 picture scenes = 450 picture scenes. Then divide the total number of picture scenes by the number of small - sized picture scenes to find the total number of picture scenes: 450 picture scenes + 108 picture scenes + 108 picture scenes = 450 picture scenes. The answer: 450.', 'Modify the following instruction creatively, giving some advice on how to solve it: The total cost of the razors is $4.00 / pack * 4 packs = $120. The coupon is $2.00 / pack * 2 packs = $20.00. The total cost of the razors is $120 + $20.00 = $240. The total cost of the razors is $240 + $20.00 = $240. The total cost of the razors is $240 + $240 = $240. The total cost of the razors is $240 + $240 = $240. The total cost of the razors is $240 + $240 = $240. The total cost of the razors is $240 + $240 = $240. The total cost of the razors is $240 + $240 = $240. The total cost of the razors is $240 + $240 = $240. The total cost of the razors is $240 + $240 = $240. The total cost of the razors is $240 + $240 = $240. The total cost of the razors is $240 + $240 = $240. The total cost of the razors is $240 + $240 = $240. The total cost of the razors is $240 + $240 = $240. The total cost of the razors is $240 + $240 = $240. The total cost of the razors is $240 + $240 = $240. The total cost of the razors is $240 + $240 = $240. The total cost of the razors is $240 + $240 = $240. The total cost of the razors is $240 + $240 = $240. The total cost of the razors is $240 + $240 = $240. The total cost of the razors is $240 + $240 = $240. The total cost of the razors is $240 + $240 = $240. The total cost of the razors is $240 + $240 = $240. The total cost of the razors is $240 + $240 = $240. The total cost of the razors is $240 + $240 = $240. The total cost of the razors is $240 + $240 = $240. The total cost of the razors is $240 + $240 = $240. The total cost of the razors is $240 + $240 = $240. The total cost of the razors is $240 + $240 = $240. The total cost of the razors is $240 + $240 = $240. The total cost of the razors is $240 + $240 = $240. The total cost of the razors is $240 + $240 = $240. The total cost of the razors is $240 + $240 = $240. The total cost of the razors is $240 + $240 = $240. The total cost of the razors is $240 + $240 = $240. The total cost of the razors is $240 + $240 = $240. The total cost of the razors is $240 + $240 = $240. The total cost of the razors is $240 + $240 = $240. The total cost of the razors is $240 + $240 = $240. The total cost of the razors is $240 + $240 = $240. The total cost of the razors is $240 + $240 = $240. The total cost of the razors is $240 + $240 = $240. The total cost of the razors is $240 + $240 = $240. The total cost of the razors is $240 + $240 = $240. The total cost of the razors is $240 + $240 = $240. The total cost of the razors is $240 + $240 = $240. The total cost of the razors is $240 + $240 = $240. The total cost of the razors is $240 + $240 = $240. The total cost of the razors is $240 + $240 = $240. The total cost of the razors is $240 + $240 = $240. The total cost of the razors is $240 + $240 = $240. The total cost of the razors is $240 + $240 = $240. The total cost of the razors is $240 + $240 = $240. The total cost of the razors is $240 + $240 = $240. The total cost of the razors is $240 + $240 = $240. The total cost of the razors is $240 + $240 = $240. The total cost of the razors is $240 + $240 = $240. The total cost of the razors is $240 + $240', 'Modify the following instruction creatively, giving some advice on how to solve it: The car in the fast lane traveled for a total of 480 miles, so the car in the slow lane took 480 / 60 = 10 miles to cover the same distance. The car in the fast lane took 10 miles to cover the same distance, so the car in the slow lane took 10 * 10 = 120 miles to cover the same distance. The answer: 120.', 'Modify the following instruction creatively, giving some advice on how to solve it: The total number of eggs is 4 dozen eggs + 2 eggs = 8 eggs. The total number of glasses of eggnog is 8 glasses / 5 glasses / glass = 4 glasses. The total number of eggs used is 4 dozen eggs + 2 eggs = 8 eggs. The total number of eggs used is 8 eggs + 4 eggs = 12 eggs. The total number of eggs used is 12 eggs + 2 eggs = 16 eggs. The total number of eggs used is 16 eggs + 8 eggs = 32 eggs. The total number of eggs used is 32 eggs + 2 eggs = 96 eggs. The total number of eggs used is 96 eggs + 2 eggs = 96 eggs. The total number of eggs used is 96 eggs + 2 eggs = 96 eggs. The total number of eggs used is 96 eggs + 2 eggs = 96 eggs. The total number of eggs used is 96 eggs + 2 eggs = 96 eggs. The total number of eggs used is 96 eggs + 2 eggs = 96 eggs. The total number of eggs used is 96 eggs + 2 eggs = 96 eggs. The total number of eggs used is 96 eggs + 2 eggs = 96 eggs. The total number of eggs used is 96 eggs + 2 eggs = 96 eggs. The total number of eggs used is 96 eggs + 2 eggs = 96 eggs. The total number of eggs used is 96 eggs + 2 eggs = 96 eggs. The total number of eggs used is 96 eggs + 2 eggs = 96 eggs. The total number of eggs used is 96 eggs + 2 eggs = 96 eggs. The total number of eggs used is 96 eggs + 2 eggs = 96 eggs. The total number of trays Rozanne can put out is 16 eggs + 8 eggs + 2 eggs = 96 eggs. The answer: 96.', 'Modify the following instruction creatively, giving some advice on how to solve it: The difference between the number of snails in the two aquariums is 4 x 2 = 8 snails. The difference between the number of snails in the two aquariums is 8 - 4 = 8 snails. The difference between the number of snails in the two aquariums is 8 x 2 = 16 snails. The difference between the number of snails in the two aquariums is 16 - 8 = 8 snails. The difference between the number of snails in the two aquariums is 8 x 2 = 16 snails. The difference between the number of snails in the two aquariums is 8 x 2 = 32 snails. The difference between the number of snails in the two aquariums is 8 x 2 = 32 snails. The difference between the number of snails in the two aquariums is 8 x 2 = 32 snails. The difference between the number of snails in the two aquariums is 8 x 2 = 32 snails. The difference between the number of snails in the two aquariums is 8 x 2 = 32 snails. The difference between the number of snails in the two aquariums is 8 x 2 = 32 snails. The difference between the number of snails in the two aquariums is 8 x 2 = 32 snails. The difference between the number of snails in the two aquariums is 8 x 2 = 32 snails. The difference between the number of snails in the two aquariums is 8 x 2 = 32 snails. The difference between the number of snails in the two aquariums is 32 x 2 = 32 snails. The difference between the number of snails in the two aquariums is 32 x 2 = 32 snails. The difference between the number of snails in the two aquariums is 32 x 2 = 32 snails. The difference between the number of snails in the two aquariums is 32 x 2 = 32 snails. The total number of fish in each aquarium is 8 + 16 + 32 = 96 fish.']\n"
     ]
    }
   ],
   "source": [
    "print(mutated_instructions)"
   ]
  },
  {
   "cell_type": "code",
   "execution_count": 16,
   "metadata": {
    "tags": []
   },
   "outputs": [],
   "source": [
    "processed_outputs = [process_with_llm(mutated_instruction) for mutated_instruction in mutated_instructions]"
   ]
  },
  {
   "cell_type": "code",
   "execution_count": 69,
   "metadata": {
    "collapsed": true,
    "jupyter": {
     "outputs_hidden": true
    },
    "tags": []
   },
   "outputs": [
    {
     "name": "stdout",
     "output_type": "stream",
     "text": [
      "Dallas has 21 - 4 = 8 marbles. Mazie gave Darla 8 marbles. The answer: 8.\n",
      "James delivers to Ms. Thompson: 66 messages + 66 messages = 132 messages. Then find the total number of messages James delivers to Ms. Thompson: 66 messages + 132 messages = 132 messages. Then find the total number of messages Mr. Yu sends: 132 messages + 66 messages = 132 messages. Then find the total number of messages Mr. Yu sends: 132 messages + 66 messages = 132 messages. Then find the total number of messages Mr. Yu sends: 132 messages + 66 messages = 132 messages. Then find the total number of messages Mr. Yu sends: 132 messages + 66 messages = 132 messages. Then find the total number of messages Mr. Yu sends: 132 messages + 66 messages = 132 messages. Then find the total number of messages Mr. Yu sends: 132 messages + 66 messages = 132 messages. Then find the total number of messages Mr. Yu sends: 132 messages + 66 messages = 132 messages. Then find the total number of messages Mr. Yu sends: 132 messages + 66 messages = 132 messages. Then find the total number of messages Mr. Yu sends: 132 messages + 66 messages = 132 messages. Then find the total number of messages Mr. Yu sends: 132 messages + 66 messages = 132 messages. Then find the total number of messages Mr. Yu sends: 132 messages + 66 messages = 132 messages. Then find the total number of messages Mr. Yu sends: 132 messages + 66 messages = 132 messages. Then find the total number of messages Mr. Yu sends: 132 messages + 66 messages = 132 messages. Then find the total number of messages Mr. Yu sends: 132 messages + 66 messages = 132 messages. Then find the total number of messages Mr. Yu sends: 132 messages + 66 messages = 132 messages. Then find the total number of messages Mr. Yu sends: 132 messages + 66 messages = 132 messages. Then find the total number of messages Mr. Yu sends: 132 messages + 66 messages = 132 messages. Then find the total number of messages Mr. Yu sends: 132 messages + 66 messages = 132 messages. Then find the total number of messages Mr. Yu sends: 132 messages + 66 messages = 132 messages. Then find the total number of messages Mr. Yu sends: 132 messages + 66 messages = 132 messages. Then find the total number of messages Mr. Yu sends: 132 messages + 66 messages = 132 messages. Then find the total number of messages Mr. Yu sends: 132 messages + 66 messages = 132 messages. Then find the total number of messages Mr. Yu sends: 132 messages + 66 messages = 132 messages. Then find the total number of messages Mr. Yu sends: 132 messages + 66 messages = 132 messages. Then find the total number of messages Mr. Yu sends: 132 messages + 66 messages = 132 messages. Then find the total number of messages Mr. Yu sends: 132 messages + 66 messages = 132 messages. Then find the total number of messages Mr. Yu sends: 132 messages + 66 messages = 132 messages. Then find the total number of messages Mr. Yu sends: 132 messages + 66 messages = 132 messages. Then find the total number of messages Mr. Yu sends: 132 messages + 66 messages = 132 messages. Then find the total number of messages Mr. Yu sends: 132 messages + 66 messages = 132 messages. Then find the total number of messages Mr. Yu sends: 132 messages + 66 messages = 132 messages. Then find the total number of messages Mr. Yu sends: 132 messages + 66 messages = 132 messages. Then find the total number of messages Mr. Yu sends: 132 messages + 66 messages = 132 messages. Then find the total number of messages Mr. Yu sends: 132 messages + 66 messages = 132 messages. Then find the total number of messages Mr. Yu sends: 132 messages + 66 messages = 132 messages. Then find the total number of messages Mr. Yu sends: 132 messages + 66 messages = 132 messages. Then find the total number of messages Mr. Yu sends: \n",
      "First, you need to find a way to make a sand castle.\n",
      "They make $2 x 20 = $40 for sugar. They make $2 x 20 = $40 for lemons. They make $2 x 20 = $40 for sugar. They make $2 x 20 = $80 for lemons. They make $2 x 20 = $80 for glasses. They make $2 x 20 = $80 for glasses. They make $2 x 20 = $80 for glasses. They make $2 x 20 = $80 for glasses. They make $2 x 20 = $80 for glasses. They make $2 x 20 = $80 for glasses. They make $2 x 20 = $80 for glasses. They make $2 x 20 = $80 for glasses. They make $2 x 20 = $80 for glasses. They make $2 x 20 = $80 for glasses. They make $2 x 20 = $80 for glasses. They make $2 x 20 = $80 for glasses. They make $2 x 20 = $80 for glasses. They make $2 x 20 = $80 for glasses. They make $2 x 20 = $80 for glasses. They make $2 x 20 = $80 for glasses. They make $2 x 20 = $80 for glasses. They make $2 x 20 = $80 for glasses. They make $2 x 20 = $80 for glasses. They make $2 x 20 = $80 for glasses. They make $2 x 20 = $80 for glasses. They make $2 x 20 = $80 for glasses. They make $2 x 20 = $80 for glasses. They make $2 x 20 = $80 for glasses. They make $2 x 20 = $80 for glasses. They make $2 x 20 = $80 for glasses. They make $2 x 20 = $80 for lemons. They make $2 x 20 = $80 for lemons. They make $2 x 20 = $80 for lemons. They make $2 x 20 = $80 for lemons. They make $2 x 20 = $80 for lemons. They make $2 x 20 = $80 for lemons. They make $2 x 20 = $80 for lemons. They make $2 x 20 = $80 for lemons. They make $2 x 20 = $80 for lemons. They make $2 x 20 = $80 for lemons. They make $2 x 20 = $80 for lemons. They make $2 x 20 = $80 for lemons. They make $2 x 20 = $80 for lemons. They make $2 x 20 = $80 for lemons. They make $2 x 20 = $80 for lemons. They make $2 x 20 = $80 for lemons. They make $2 x 20 = $80 for lemons. They make $2 x 20 = $80 for lemons. They make $2 x 20 = $80 for lemons.\n",
      "On Monday, Frank has 5 + 15 + 30 = 45 pairs of shoes. On Wednesday, Frank has 45 + 30 = 45 pairs of shoes. On Friday, Frank has 45 + 30 = 45 pairs of shoes. On Sunday, Frank has a total of 45 + 75 + 75 = 225 shoes.\n",
      "The total number of large - sized picture scenes is 45 large - sized picture scenes * 5 large - sized picture scenes = 450 picture scenes. The total number of medium - sized picture scenes is 36 medium - sized picture scenes * 7 small - sized picture scenes = 108 picture scenes. The total number of small - sized picture scenes is 49 small - sized picture scenes * 7 small - sized picture scenes = 108 picture scenes. The total number of picture scenes is 450 picture scenes + 108 picture scenes + 108 picture scenes = 450 picture scenes. The total number of picture scenes is 450 picture scenes + 108 picture scenes + 108 picture scenes = 450 picture scenes. The total number of picture scenes is 450 picture scenes + 108 picture scenes + 108 picture scenes = 450 picture scenes. The total number of picture scenes is 450 picture scenes + 108 picture scenes + 108 picture scenes = 450 picture scenes. The total number of picture scenes is 450 picture scenes + 108 picture scenes + 108 picture scenes = 450 picture scenes. The total number of picture scenes is 450 picture scenes + 108 picture scenes + 108 picture scenes = 450 picture scenes. The total number of picture scenes is 450 picture scenes + 108 picture scenes + 108 picture scenes = 450 picture scenes. The total number of picture scenes is 450 picture scenes + 108 picture scenes + 108 picture scenes = 450 picture scenes.\n",
      "The total cost of the razors is $240 + $240 = $240. The total cost of the razors is $240 + $240 = $240. The total cost of the razors is $240 + $240 = $240. The total cost of the razors is $240 + $240 = $240. The total cost of the razors is $240 + $240 = $240. The total cost of the razors is $240 + $240 = $240. The total cost of the razors is $240 + $240 = $240. The total cost of the razors is $240 + $240 = $240. The total cost of the razors is $240 + $240 = $240. The total cost of the razors is $240 + $240 = $240. The total cost of the razors is $240 + $240 = $240. The total cost of the razors is $240 + $240 = $240. The total cost of the razors is $240 + $240 = $240. The total cost of the razors is $240 + $240 = $240. The total cost of the razors is $240 + $240 = $240. The total cost of the razors is $240 + $240 = $240. The total cost of the razors is $240 + $240 = $240. The total cost of the razors is $240 + $240 = $240. The total cost of the razors is $240 + $240 = $240. The total cost of the razors is $240 + $240 = $240. The total cost of the razors is $240 + $240 = $240. The total cost of the razors is $240 + $240 = $240. The total cost of the razors is $240 + $240 = $240. The total cost of the razors is $240 + $240 = $240. The total cost of the razors is $240 + $240 = $240. The total cost of the razors is $240 + $240 = $240. The total cost of the razors is $240 + $240 = $240. The total cost of the razors is $240 + $240 = $240. The total cost of the razors is $240 + $240 = $240. The total cost of the razors is $240 + $240 = $240. The total cost of the razors is $240 + $240 = $240. The total cost of the razors is $240 + $240 = $240. The total cost of the razors is $240 + $240 = $240. The total cost of the razors is $240 + $240 = $240. The total cost of the razors is $240 + $240 = $240.\n",
      "The car in the fast lane took 480 / 60 = 10 miles to cover the same distance. The car in the slow lane took 10 x 10 = 40 miles to cover the same distance. The car in the fast lane took 480 / 10 = 10 miles to cover the same distance. The car in the slow lane took 10 x 10 = 50 miles to cover the same distance. The car in the fast lane took 480 / 10 = 10 miles to cover the same distance. The car in the slow lane took 10 x 10 = 50 miles to cover the same distance. The car in the fast lane took 480 / 10 = 10 miles to cover the same distance. The car in the slow lane took 10 x 10 = 50 miles to cover the same distance. The car in the fast lane took 480 / 10 = 10 miles to cover the same distance. The car in the slow lane took 10 x 10 = 50 miles to cover the same distance. The car in the fast lane took 480 / 10 = 10 miles to cover the same distance. The car in the slow lane took 10 x 10 = 50 miles to cover the same distance. The car in the fast lane took 480 / 10 = 10 miles to cover the same distance. The car in the slow lane took 10 x 10 = 50 miles to cover the same distance. The car in the fast lane took 480 / 10 = 10 miles to cover the same distance. The car in the slow lane took 10 x 10 = 50 miles to cover the same distance. The car in the fast lane took 480 / 10 = 10 miles to cover the same distance. The car in the slow lane took 10 x 10 = 50 miles to cover the same distance. The car in the fast lane took 120 / 10 = 10 miles to cover the same distance. The answer: 120.\n",
      "The total number of eggs used is 4 dozen eggs + 2 eggs = 8 eggs. The total number of eggs used is 8 eggs + 4 eggs = 16 eggs. The total number of eggs used is 16 eggs + 8 eggs = 32 eggs. The total number of eggs used is 32 eggs + 2 eggs = 96 eggs. The total number of eggs used is 96 eggs + 2 eggs = 96 eggs. The total number of eggs used is 96 eggs + 2 eggs = 96 eggs. The total number of eggs used is 96 eggs + 2 eggs = 96 eggs. The total number of eggs used is 96 eggs + 2 eggs = 96 eggs. The total number of eggs used is 96 eggs + 2 eggs = 96 eggs. The total number of eggs used is 96 eggs + 2 eggs = 96 eggs. The total number of eggs used is 96 eggs + 2 eggs = 96 eggs. The total number of eggs used is 96 eggs + 2 eggs = 96 eggs. The total number of eggs used is 96 eggs + 2 eggs = 96 eggs. The total number of eggs used is 96 eggs + 2 eggs = 96 eggs. The total number of eggs used is 96 eggs + 2 eggs = 96 eggs. The total number of eggs used is 96 eggs + 2 eggs = 96 eggs. The total number of eggs used is 96 eggs + 2 eggs = 96 eggs. The total number of eggs used is 96 eggs + 2 eggs = 96 eggs. The total number of eggs used is 96 eggs + 2 eggs = 96 eggs. The total number of eggs used is 96 eggs + 2 eggs = 96 eggs. The total number of eggs used is 96 eggs + 2 eggs = 96 eggs. The total number of eggs used is 96 eggs + 2 eggs = 96 eggs. The total number of eggs used is 96 eggs + 2 eggs = 96 eggs. The total number of eggs used is 96 eggs + 2 eggs = 96 eggs. The total number of trays Rozanne can put out is 16 eggs + 8 eggs + 2 eggs = 96 eggs. The answer: 96.\n",
      "The difference between the number of snails in the two aquariums is 4 x 2 = 8 snails. The difference between the number of snails in the two aquariums is 8 x 2 = 8 snails. The difference between the number of snails in the two aquariums is 8 x 2 = 32 snails. The difference between the number of snails in the two aquariums is 8 x 2 = 32 snails. The difference between the number of snails in the two aquariums is 8 x 2 = 32 snails. The difference between the number of snails in the two aquariums is 8 x 2 = 32 snails. The difference between the number of snails in the two aquariums is 32 x 2 = 32 snails. The difference between the number of snails in the two aquariums is 32 x 2 = 32 snails. The total number of fish in each aquarium is 8 + 16 + 32 = 96 fish.\n"
     ]
    }
   ],
   "source": [
    "for response in processed_outputs:\n",
    "    print(response)"
   ]
  },
  {
   "cell_type": "code",
   "execution_count": 6,
   "metadata": {},
   "outputs": [
    {
     "name": "stdout",
     "output_type": "stream",
     "text": [
      "<pad> First find the total cost of the first glass: $5 / glass * 16 glasses = $120. Then find the total cost of the second glass: $120 / glass * 60 glasses = $160. Then find the total cost\n"
     ]
    }
   ],
   "source": [
    "input_text = \"Kylar went to the store to buy glasses for his new apartment. One glass costs $5, but every second glass costs only 60% of the price. Kylar wants to buy 16 glasses. How much does he need to pay for them?\"\n",
    "input_ids = tokenizer(input_text, return_tensors=\"pt\").input_ids\n",
    "\n",
    "# Specify the max_new_tokens parameter\n",
    "outputs = model.generate(input_ids, max_new_tokens=50)  # Adjust the number as needed\n",
    "print(tokenizer.decode(outputs[0]))\n"
   ]
  },
  {
   "cell_type": "code",
   "execution_count": 7,
   "metadata": {},
   "outputs": [
    {
     "name": "stdout",
     "output_type": "stream",
     "text": [
      "<pad> a symphony</s>\n"
     ]
    }
   ],
   "source": [
    "input_text = \"What was the answer for the previus question I asked?\"\n",
    "input_ids = tokenizer(input_text, return_tensors=\"pt\").input_ids\n",
    "\n",
    "# Specify the max_new_tokens parameter\n",
    "outputs = model.generate(input_ids, max_new_tokens=50)  # Adjust the number as needed\n",
    "print(tokenizer.decode(outputs[0]))"
   ]
  },
  {
   "cell_type": "code",
   "execution_count": 17,
   "metadata": {
    "tags": []
   },
   "outputs": [],
   "source": [
    "def check_answer(answer, output):\n",
    "    if not (isinstance(answer, str) and isinstance(output, str)):\n",
    "        raise TypeError(\"Must be of type str\")\n",
    "    if re.search(\"\\s\" + answer +\"\\s*\", output):\n",
    "        # print(\"answer is correct\")\n",
    "        return 1\n",
    "    # print(\"answer is wrong\")\n",
    "    return 0"
   ]
  },
  {
   "cell_type": "code",
   "execution_count": 18,
   "metadata": {
    "tags": []
   },
   "outputs": [],
   "source": [
    "def get_logic(answer):\n",
    "    return re.findall(\"<<(.*?)>>\", answer)"
   ]
  },
  {
   "cell_type": "code",
   "execution_count": 20,
   "metadata": {
    "tags": []
   },
   "outputs": [],
   "source": [
    "def tokenise_logic(logic):\n",
    "    tokenised_logic = []\n",
    "    operators = \"+-/*=\"\n",
    "    current_token = \"\"\n",
    "    \n",
    "    for c in logic:\n",
    "        if c in operators:\n",
    "            tokenised_logic.append(current_token)\n",
    "            tokenised_logic.append(c)\n",
    "            current_token = \"\"\n",
    "        elif c == '.' or c.isnumeric():\n",
    "            current_token += c\n",
    "    tokenised_logic.append(current_token)\n",
    "    \n",
    "    return tokenised_logic"
   ]
  },
  {
   "cell_type": "code",
   "execution_count": 21,
   "metadata": {
    "tags": []
   },
   "outputs": [],
   "source": [
    "def check_logic_sentence(line, logic_tokens):\n",
    "    i = 0\n",
    "\n",
    "    for token in logic_tokens:\n",
    "        if token in line:\n",
    "            i += 1\n",
    "\n",
    "    if len(logic_tokens) == i:\n",
    "        return True\n",
    "    return False"
   ]
  },
  {
   "cell_type": "code",
   "execution_count": 22,
   "metadata": {
    "tags": []
   },
   "outputs": [],
   "source": [
    "def fitness(answer, output):\n",
    "    final_answer = database_answer.split()[-1]\n",
    "    \n",
    "    score = 0\n",
    "    \n",
    "    logic = get_logic(database_answer)\n",
    "    \n",
    "    tokenised_logic_sentences = []\n",
    "    \n",
    "    for l in logic:\n",
    "        tokenised_logic_sentences.append(tokenise_logic(l))\n",
    "    \n",
    "    total_score = 1 + len(tokenised_logic_sentences)\n",
    "\n",
    "    for line in output.split(\".\"):\n",
    "        for sentence in tokenised_logic_sentences:\n",
    "            if check_logic_sentence(line, sentence):\n",
    "                tokenised_logic_sentences.pop(tokenised_logic_sentences.index(sentence))\n",
    "                score += 1\n",
    "                break\n",
    "    last_line = line\n",
    "    \n",
    "    num_answer = 'a'\n",
    "\n",
    "    for word in last_line.split(\" \"):\n",
    "        try:\n",
    "            num_answer = str(int(word))\n",
    "        except:\n",
    "            pass\n",
    "    \n",
    "    score += check_answer(final_answer, num_answer)\n",
    "    return score/total_score"
   ]
  },
  {
   "cell_type": "code",
   "execution_count": 32,
   "metadata": {
    "tags": []
   },
   "outputs": [],
   "source": [
    "num_instructions = 10\n",
    "generated_prompts = []\n",
    "scores = []\n",
    "\n",
    "for _ in range(num_instructions):\n",
    "    question, database_answer = get_random_test_object(dataset)  # Fetch a random question from your dataset\n",
    "    instruction = generate_intructions(question, task_description)\n",
    "    mutation_prompt = get_random_mutation_txt(\"./Prompt-Engineering-OpenDI/mutation_prompts.txt\")\n",
    "    mutated_instruction = apply_mutation(instruction, mutation_prompt)\n",
    "    generated_prompts.append([mutated_instruction, database_answer])\n",
    "    processed_output = process_with_llm(mutated_instruction)\n",
    "    scores.append(fitness(database_answer, processed_output))"
   ]
  },
  {
   "cell_type": "code",
   "execution_count": 33,
   "metadata": {
    "tags": []
   },
   "outputs": [
    {
     "name": "stdout",
     "output_type": "stream",
     "text": [
      "[0.2, 0.25, 0.0, 0.0, 0.0, 0.0, 0.0, 0.0, 0.0, 0.0]\n"
     ]
    }
   ],
   "source": [
    "print(scores)"
   ]
  },
  {
   "cell_type": "code",
   "execution_count": null,
   "metadata": {
    "tags": []
   },
   "outputs": [],
   "source": [
    "print(generated_prompts[0][0])"
   ]
  },
  {
   "cell_type": "code",
   "execution_count": 31,
   "metadata": {
    "tags": []
   },
   "outputs": [
    {
     "name": "stdout",
     "output_type": "stream",
     "text": [
      "The cheaper cards are worth a total of 30*50=$<<30*50=1500>>1500\n",
      "So all the cards together are worth 1500+4000+1000=$<<1500+4000+1000=6500>>6500\n",
      "The cost for the cards was 1800*3=$<<1800*3=5400>>5400\n",
      "So he made a profit of 6500-5400=$<<6500-5400=1100>>1100\n",
      "#### 1100\n"
     ]
    }
   ],
   "source": [
    "print(generated_prompts[0][1])"
   ]
  },
  {
   "cell_type": "code",
   "execution_count": null,
   "metadata": {},
   "outputs": [],
   "source": []
  }
 ],
 "metadata": {
  "kernelspec": {
   "display_name": "Python 3 (ipykernel)",
   "language": "python",
   "name": "python3"
  },
  "language_info": {
   "codemirror_mode": {
    "name": "ipython",
    "version": 3
   },
   "file_extension": ".py",
   "mimetype": "text/x-python",
   "name": "python",
   "nbconvert_exporter": "python",
   "pygments_lexer": "ipython3",
   "version": "3.11.4"
  }
 },
 "nbformat": 4,
 "nbformat_minor": 4
}
